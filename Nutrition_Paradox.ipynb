{
 "cells": [
  {
   "cell_type": "markdown",
   "id": "3d4ab641-11d7-421d-982d-8afea2f978b3",
   "metadata": {},
   "source": [
    "### <span style=\"color:#2E6F40;\">**Importing the Dependencies**</span>"
   ]
  },
  {
   "cell_type": "code",
   "execution_count": 2,
   "id": "f597b8de-0151-41cb-acae-dc543790bca1",
   "metadata": {},
   "outputs": [],
   "source": [
    "import requests\n",
    "import pandas as pd\n",
    "import pycountry"
   ]
  },
  {
   "cell_type": "markdown",
   "id": "44586647-98c4-400f-9b1d-f8493916698c",
   "metadata": {},
   "source": [
    "### <span style=\"color:#2E6F40;\">**Step 1: 📥 Dataset Overview & Collection**</span>\n",
    "We are going to collect data from **4 public WHO API endpoints**:\n",
    "\n",
    "1. **Obesity data for adults**  \n",
    "   ➤ URL: [`https://ghoapi.azureedge.net/api/NCD_BMI_30C`](https://ghoapi.azureedge.net/api/NCD_BMI_30C)\n",
    "\n",
    "2. **Obesity data for children**  \n",
    "   ➤ URL: [`https://ghoapi.azureedge.net/api/NCD_BMI_PLUS2C`](https://ghoapi.azureedge.net/api/NCD_BMI_PLUS2C)\n",
    "\n",
    "3. **Underweight data for adults**  \n",
    "   ➤ URL: [`https://ghoapi.azureedge.net/api/NCD_BMI_18C`](https://ghoapi.azureedge.net/api/NCD_BMI_18C)\n",
    "\n",
    "4. **Underweight data for children**  \n",
    "   ➤ URL: [`https://ghoapi.azureedge.net/api/NCD_BMI_MINUS2C`](https://ghoapi.azureedge.net/api/NCD_BMI_MINUS2C)"
   ]
  },
  {
   "cell_type": "markdown",
   "id": "1555a2f8-efec-45cb-9e31-8918a6148845",
   "metadata": {},
   "source": [
    "### <span style=\"color:#2E6F40;\">**Define function for converting API data into dataframe**</span>"
   ]
  },
  {
   "cell_type": "code",
   "execution_count": 5,
   "id": "ac4a8e49-09d1-4786-8783-bdc9bfb3c1f5",
   "metadata": {},
   "outputs": [],
   "source": [
    "def convert_dataframe(url):\n",
    "    result = requests.get(url)\n",
    "    data = result.json()\n",
    "    df = pd.DataFrame(data['value'])\n",
    "    return df"
   ]
  },
  {
   "cell_type": "markdown",
   "id": "74b064dc-166d-4d42-a409-fc3a7f3e3350",
   "metadata": {},
   "source": [
    "### <span style=\"color:#2E6F40;\">**1. Load all 4 datasets into dataframe**</span>"
   ]
  },
  {
   "cell_type": "markdown",
   "id": "28561de3-3052-4376-966d-848a9da89739",
   "metadata": {},
   "source": [
    "#### <span style=\"color:#4272FF;\">**1. Obesity data for adults**</span>"
   ]
  },
  {
   "cell_type": "code",
   "execution_count": 8,
   "id": "de528787-05e0-4ce1-bed4-8769fa25feef",
   "metadata": {},
   "outputs": [
    {
     "data": {
      "text/html": [
       "<div>\n",
       "<style scoped>\n",
       "    .dataframe tbody tr th:only-of-type {\n",
       "        vertical-align: middle;\n",
       "    }\n",
       "\n",
       "    .dataframe tbody tr th {\n",
       "        vertical-align: top;\n",
       "    }\n",
       "\n",
       "    .dataframe thead th {\n",
       "        text-align: right;\n",
       "    }\n",
       "</style>\n",
       "<table border=\"1\" class=\"dataframe\">\n",
       "  <thead>\n",
       "    <tr style=\"text-align: right;\">\n",
       "      <th></th>\n",
       "      <th>Id</th>\n",
       "      <th>IndicatorCode</th>\n",
       "      <th>SpatialDimType</th>\n",
       "      <th>SpatialDim</th>\n",
       "      <th>TimeDimType</th>\n",
       "      <th>ParentLocationCode</th>\n",
       "      <th>ParentLocation</th>\n",
       "      <th>Dim1Type</th>\n",
       "      <th>TimeDim</th>\n",
       "      <th>Dim1</th>\n",
       "      <th>...</th>\n",
       "      <th>DataSourceDim</th>\n",
       "      <th>Value</th>\n",
       "      <th>NumericValue</th>\n",
       "      <th>Low</th>\n",
       "      <th>High</th>\n",
       "      <th>Comments</th>\n",
       "      <th>Date</th>\n",
       "      <th>TimeDimensionValue</th>\n",
       "      <th>TimeDimensionBegin</th>\n",
       "      <th>TimeDimensionEnd</th>\n",
       "    </tr>\n",
       "  </thead>\n",
       "  <tbody>\n",
       "    <tr>\n",
       "      <th>0</th>\n",
       "      <td>5540695</td>\n",
       "      <td>NCD_BMI_30C</td>\n",
       "      <td>COUNTRY</td>\n",
       "      <td>MDA</td>\n",
       "      <td>YEAR</td>\n",
       "      <td>EUR</td>\n",
       "      <td>Europe</td>\n",
       "      <td>SEX</td>\n",
       "      <td>2018</td>\n",
       "      <td>SEX_BTSX</td>\n",
       "      <td>...</td>\n",
       "      <td>None</td>\n",
       "      <td>25.9 [23.9-28.0]</td>\n",
       "      <td>25.94346</td>\n",
       "      <td>23.92528</td>\n",
       "      <td>28.04794</td>\n",
       "      <td>None</td>\n",
       "      <td>2024-02-29T16:06:41.017+01:00</td>\n",
       "      <td>2018</td>\n",
       "      <td>2018-01-01T00:00:00+01:00</td>\n",
       "      <td>2018-12-31T00:00:00+01:00</td>\n",
       "    </tr>\n",
       "    <tr>\n",
       "      <th>1</th>\n",
       "      <td>5541156</td>\n",
       "      <td>NCD_BMI_30C</td>\n",
       "      <td>COUNTRY</td>\n",
       "      <td>IRL</td>\n",
       "      <td>YEAR</td>\n",
       "      <td>EUR</td>\n",
       "      <td>Europe</td>\n",
       "      <td>SEX</td>\n",
       "      <td>1995</td>\n",
       "      <td>SEX_MLE</td>\n",
       "      <td>...</td>\n",
       "      <td>None</td>\n",
       "      <td>16.3 [13.6-19.2]</td>\n",
       "      <td>16.26016</td>\n",
       "      <td>13.62936</td>\n",
       "      <td>19.19998</td>\n",
       "      <td>None</td>\n",
       "      <td>2024-02-29T16:06:41.017+01:00</td>\n",
       "      <td>1995</td>\n",
       "      <td>1995-01-01T00:00:00+01:00</td>\n",
       "      <td>1995-12-31T00:00:00+01:00</td>\n",
       "    </tr>\n",
       "  </tbody>\n",
       "</table>\n",
       "<p>2 rows × 25 columns</p>\n",
       "</div>"
      ],
      "text/plain": [
       "        Id IndicatorCode SpatialDimType SpatialDim TimeDimType  \\\n",
       "0  5540695   NCD_BMI_30C        COUNTRY        MDA        YEAR   \n",
       "1  5541156   NCD_BMI_30C        COUNTRY        IRL        YEAR   \n",
       "\n",
       "  ParentLocationCode ParentLocation Dim1Type  TimeDim      Dim1  ...  \\\n",
       "0                EUR         Europe      SEX     2018  SEX_BTSX  ...   \n",
       "1                EUR         Europe      SEX     1995   SEX_MLE  ...   \n",
       "\n",
       "  DataSourceDim             Value NumericValue       Low      High Comments  \\\n",
       "0          None  25.9 [23.9-28.0]     25.94346  23.92528  28.04794     None   \n",
       "1          None  16.3 [13.6-19.2]     16.26016  13.62936  19.19998     None   \n",
       "\n",
       "                            Date  TimeDimensionValue  \\\n",
       "0  2024-02-29T16:06:41.017+01:00                2018   \n",
       "1  2024-02-29T16:06:41.017+01:00                1995   \n",
       "\n",
       "          TimeDimensionBegin           TimeDimensionEnd  \n",
       "0  2018-01-01T00:00:00+01:00  2018-12-31T00:00:00+01:00  \n",
       "1  1995-01-01T00:00:00+01:00  1995-12-31T00:00:00+01:00  \n",
       "\n",
       "[2 rows x 25 columns]"
      ]
     },
     "execution_count": 8,
     "metadata": {},
     "output_type": "execute_result"
    }
   ],
   "source": [
    "url = \"https://ghoapi.azureedge.net/api/NCD_BMI_30C\"\n",
    "obesity_adults = convert_dataframe(url)\n",
    "obesity_adults.head(2)"
   ]
  },
  {
   "cell_type": "markdown",
   "id": "071370b9-2aca-4e10-af62-6acb5c2d89e2",
   "metadata": {},
   "source": [
    "#### <span style=\"color:#4272FF;\">**2. Obesity data for children**</span>"
   ]
  },
  {
   "cell_type": "code",
   "execution_count": 10,
   "id": "c404ae2a-051f-4314-8909-d81dc2522505",
   "metadata": {},
   "outputs": [
    {
     "data": {
      "text/html": [
       "<div>\n",
       "<style scoped>\n",
       "    .dataframe tbody tr th:only-of-type {\n",
       "        vertical-align: middle;\n",
       "    }\n",
       "\n",
       "    .dataframe tbody tr th {\n",
       "        vertical-align: top;\n",
       "    }\n",
       "\n",
       "    .dataframe thead th {\n",
       "        text-align: right;\n",
       "    }\n",
       "</style>\n",
       "<table border=\"1\" class=\"dataframe\">\n",
       "  <thead>\n",
       "    <tr style=\"text-align: right;\">\n",
       "      <th></th>\n",
       "      <th>Id</th>\n",
       "      <th>IndicatorCode</th>\n",
       "      <th>SpatialDimType</th>\n",
       "      <th>SpatialDim</th>\n",
       "      <th>TimeDimType</th>\n",
       "      <th>ParentLocationCode</th>\n",
       "      <th>ParentLocation</th>\n",
       "      <th>Dim1Type</th>\n",
       "      <th>TimeDim</th>\n",
       "      <th>Dim1</th>\n",
       "      <th>...</th>\n",
       "      <th>DataSourceDim</th>\n",
       "      <th>Value</th>\n",
       "      <th>NumericValue</th>\n",
       "      <th>Low</th>\n",
       "      <th>High</th>\n",
       "      <th>Comments</th>\n",
       "      <th>Date</th>\n",
       "      <th>TimeDimensionValue</th>\n",
       "      <th>TimeDimensionBegin</th>\n",
       "      <th>TimeDimensionEnd</th>\n",
       "    </tr>\n",
       "  </thead>\n",
       "  <tbody>\n",
       "    <tr>\n",
       "      <th>0</th>\n",
       "      <td>5540919</td>\n",
       "      <td>NCD_BMI_PLUS2C</td>\n",
       "      <td>COUNTRY</td>\n",
       "      <td>CUB</td>\n",
       "      <td>YEAR</td>\n",
       "      <td>AMR</td>\n",
       "      <td>Americas</td>\n",
       "      <td>SEX</td>\n",
       "      <td>2021</td>\n",
       "      <td>SEX_MLE</td>\n",
       "      <td>...</td>\n",
       "      <td>None</td>\n",
       "      <td>12.5 [8.5-17.2]</td>\n",
       "      <td>12.52724</td>\n",
       "      <td>8.46905</td>\n",
       "      <td>17.19727</td>\n",
       "      <td>None</td>\n",
       "      <td>2024-02-29T16:06:41.017+01:00</td>\n",
       "      <td>2021</td>\n",
       "      <td>2021-01-01T00:00:00+01:00</td>\n",
       "      <td>2021-12-31T00:00:00+01:00</td>\n",
       "    </tr>\n",
       "    <tr>\n",
       "      <th>1</th>\n",
       "      <td>5540986</td>\n",
       "      <td>NCD_BMI_PLUS2C</td>\n",
       "      <td>COUNTRY</td>\n",
       "      <td>PNG</td>\n",
       "      <td>YEAR</td>\n",
       "      <td>WPR</td>\n",
       "      <td>Western Pacific</td>\n",
       "      <td>SEX</td>\n",
       "      <td>2000</td>\n",
       "      <td>SEX_MLE</td>\n",
       "      <td>...</td>\n",
       "      <td>None</td>\n",
       "      <td>8.0 [1.7-19.8]</td>\n",
       "      <td>8.01665</td>\n",
       "      <td>1.68665</td>\n",
       "      <td>19.76374</td>\n",
       "      <td>None</td>\n",
       "      <td>2024-02-29T16:06:41.017+01:00</td>\n",
       "      <td>2000</td>\n",
       "      <td>2000-01-01T00:00:00+01:00</td>\n",
       "      <td>2000-12-31T00:00:00+01:00</td>\n",
       "    </tr>\n",
       "  </tbody>\n",
       "</table>\n",
       "<p>2 rows × 25 columns</p>\n",
       "</div>"
      ],
      "text/plain": [
       "        Id   IndicatorCode SpatialDimType SpatialDim TimeDimType  \\\n",
       "0  5540919  NCD_BMI_PLUS2C        COUNTRY        CUB        YEAR   \n",
       "1  5540986  NCD_BMI_PLUS2C        COUNTRY        PNG        YEAR   \n",
       "\n",
       "  ParentLocationCode   ParentLocation Dim1Type  TimeDim     Dim1  ...  \\\n",
       "0                AMR         Americas      SEX     2021  SEX_MLE  ...   \n",
       "1                WPR  Western Pacific      SEX     2000  SEX_MLE  ...   \n",
       "\n",
       "  DataSourceDim            Value NumericValue      Low      High Comments  \\\n",
       "0          None  12.5 [8.5-17.2]     12.52724  8.46905  17.19727     None   \n",
       "1          None   8.0 [1.7-19.8]      8.01665  1.68665  19.76374     None   \n",
       "\n",
       "                            Date  TimeDimensionValue  \\\n",
       "0  2024-02-29T16:06:41.017+01:00                2021   \n",
       "1  2024-02-29T16:06:41.017+01:00                2000   \n",
       "\n",
       "          TimeDimensionBegin           TimeDimensionEnd  \n",
       "0  2021-01-01T00:00:00+01:00  2021-12-31T00:00:00+01:00  \n",
       "1  2000-01-01T00:00:00+01:00  2000-12-31T00:00:00+01:00  \n",
       "\n",
       "[2 rows x 25 columns]"
      ]
     },
     "execution_count": 10,
     "metadata": {},
     "output_type": "execute_result"
    }
   ],
   "source": [
    "url = \"https://ghoapi.azureedge.net/api/NCD_BMI_PLUS2C\"\n",
    "obesity_children = convert_dataframe(url)\n",
    "obesity_children.head(2)"
   ]
  },
  {
   "cell_type": "markdown",
   "id": "25ff6a0b-ea62-480b-a1b3-62a56f280527",
   "metadata": {},
   "source": [
    "#### <span style=\"color:#4272FF;\">**3. Underweight data for adults**</span>"
   ]
  },
  {
   "cell_type": "code",
   "execution_count": 12,
   "id": "26474fd3-536d-4674-b2c2-9fff3b8e5384",
   "metadata": {},
   "outputs": [
    {
     "data": {
      "text/html": [
       "<div>\n",
       "<style scoped>\n",
       "    .dataframe tbody tr th:only-of-type {\n",
       "        vertical-align: middle;\n",
       "    }\n",
       "\n",
       "    .dataframe tbody tr th {\n",
       "        vertical-align: top;\n",
       "    }\n",
       "\n",
       "    .dataframe thead th {\n",
       "        text-align: right;\n",
       "    }\n",
       "</style>\n",
       "<table border=\"1\" class=\"dataframe\">\n",
       "  <thead>\n",
       "    <tr style=\"text-align: right;\">\n",
       "      <th></th>\n",
       "      <th>Id</th>\n",
       "      <th>IndicatorCode</th>\n",
       "      <th>SpatialDimType</th>\n",
       "      <th>SpatialDim</th>\n",
       "      <th>ParentLocationCode</th>\n",
       "      <th>TimeDimType</th>\n",
       "      <th>ParentLocation</th>\n",
       "      <th>Dim1Type</th>\n",
       "      <th>TimeDim</th>\n",
       "      <th>Dim1</th>\n",
       "      <th>...</th>\n",
       "      <th>DataSourceDim</th>\n",
       "      <th>Value</th>\n",
       "      <th>NumericValue</th>\n",
       "      <th>Low</th>\n",
       "      <th>High</th>\n",
       "      <th>Comments</th>\n",
       "      <th>Date</th>\n",
       "      <th>TimeDimensionValue</th>\n",
       "      <th>TimeDimensionBegin</th>\n",
       "      <th>TimeDimensionEnd</th>\n",
       "    </tr>\n",
       "  </thead>\n",
       "  <tbody>\n",
       "    <tr>\n",
       "      <th>0</th>\n",
       "      <td>5540762</td>\n",
       "      <td>NCD_BMI_18C</td>\n",
       "      <td>COUNTRY</td>\n",
       "      <td>PER</td>\n",
       "      <td>AMR</td>\n",
       "      <td>YEAR</td>\n",
       "      <td>Americas</td>\n",
       "      <td>SEX</td>\n",
       "      <td>2011</td>\n",
       "      <td>SEX_FMLE</td>\n",
       "      <td>...</td>\n",
       "      <td>None</td>\n",
       "      <td>1.6 [1.4-1.8]</td>\n",
       "      <td>1.63089</td>\n",
       "      <td>1.43569</td>\n",
       "      <td>1.83620</td>\n",
       "      <td>None</td>\n",
       "      <td>2024-02-29T16:06:41.017+01:00</td>\n",
       "      <td>2011</td>\n",
       "      <td>2011-01-01T00:00:00+01:00</td>\n",
       "      <td>2011-12-31T00:00:00+01:00</td>\n",
       "    </tr>\n",
       "    <tr>\n",
       "      <th>1</th>\n",
       "      <td>5541121</td>\n",
       "      <td>NCD_BMI_18C</td>\n",
       "      <td>COUNTRY</td>\n",
       "      <td>UGA</td>\n",
       "      <td>AFR</td>\n",
       "      <td>YEAR</td>\n",
       "      <td>Africa</td>\n",
       "      <td>SEX</td>\n",
       "      <td>2020</td>\n",
       "      <td>SEX_BTSX</td>\n",
       "      <td>...</td>\n",
       "      <td>None</td>\n",
       "      <td>11.3 [9.7-12.9]</td>\n",
       "      <td>11.27629</td>\n",
       "      <td>9.70523</td>\n",
       "      <td>12.91453</td>\n",
       "      <td>None</td>\n",
       "      <td>2024-02-29T16:06:41.017+01:00</td>\n",
       "      <td>2020</td>\n",
       "      <td>2020-01-01T00:00:00+01:00</td>\n",
       "      <td>2020-12-31T00:00:00+01:00</td>\n",
       "    </tr>\n",
       "  </tbody>\n",
       "</table>\n",
       "<p>2 rows × 25 columns</p>\n",
       "</div>"
      ],
      "text/plain": [
       "        Id IndicatorCode SpatialDimType SpatialDim ParentLocationCode  \\\n",
       "0  5540762   NCD_BMI_18C        COUNTRY        PER                AMR   \n",
       "1  5541121   NCD_BMI_18C        COUNTRY        UGA                AFR   \n",
       "\n",
       "  TimeDimType ParentLocation Dim1Type  TimeDim      Dim1  ... DataSourceDim  \\\n",
       "0        YEAR       Americas      SEX     2011  SEX_FMLE  ...          None   \n",
       "1        YEAR         Africa      SEX     2020  SEX_BTSX  ...          None   \n",
       "\n",
       "             Value NumericValue      Low      High Comments  \\\n",
       "0    1.6 [1.4-1.8]      1.63089  1.43569   1.83620     None   \n",
       "1  11.3 [9.7-12.9]     11.27629  9.70523  12.91453     None   \n",
       "\n",
       "                            Date  TimeDimensionValue  \\\n",
       "0  2024-02-29T16:06:41.017+01:00                2011   \n",
       "1  2024-02-29T16:06:41.017+01:00                2020   \n",
       "\n",
       "          TimeDimensionBegin           TimeDimensionEnd  \n",
       "0  2011-01-01T00:00:00+01:00  2011-12-31T00:00:00+01:00  \n",
       "1  2020-01-01T00:00:00+01:00  2020-12-31T00:00:00+01:00  \n",
       "\n",
       "[2 rows x 25 columns]"
      ]
     },
     "execution_count": 12,
     "metadata": {},
     "output_type": "execute_result"
    }
   ],
   "source": [
    "url = \"https://ghoapi.azureedge.net/api/NCD_BMI_18C\"\n",
    "underweight_adults = convert_dataframe(url)\n",
    "underweight_adults.head(2)"
   ]
  },
  {
   "cell_type": "markdown",
   "id": "3a3a472a-2c91-44c6-9fc6-670680541217",
   "metadata": {},
   "source": [
    "#### <span style=\"color:#4272FF;\">**4. Underweight data for children**</span>"
   ]
  },
  {
   "cell_type": "code",
   "execution_count": 14,
   "id": "a1640ade-d6dd-43dd-994a-ca6cad0e5a1c",
   "metadata": {},
   "outputs": [
    {
     "data": {
      "text/html": [
       "<div>\n",
       "<style scoped>\n",
       "    .dataframe tbody tr th:only-of-type {\n",
       "        vertical-align: middle;\n",
       "    }\n",
       "\n",
       "    .dataframe tbody tr th {\n",
       "        vertical-align: top;\n",
       "    }\n",
       "\n",
       "    .dataframe thead th {\n",
       "        text-align: right;\n",
       "    }\n",
       "</style>\n",
       "<table border=\"1\" class=\"dataframe\">\n",
       "  <thead>\n",
       "    <tr style=\"text-align: right;\">\n",
       "      <th></th>\n",
       "      <th>Id</th>\n",
       "      <th>IndicatorCode</th>\n",
       "      <th>SpatialDimType</th>\n",
       "      <th>SpatialDim</th>\n",
       "      <th>ParentLocationCode</th>\n",
       "      <th>TimeDimType</th>\n",
       "      <th>ParentLocation</th>\n",
       "      <th>Dim1Type</th>\n",
       "      <th>Dim1</th>\n",
       "      <th>TimeDim</th>\n",
       "      <th>...</th>\n",
       "      <th>DataSourceDim</th>\n",
       "      <th>Value</th>\n",
       "      <th>NumericValue</th>\n",
       "      <th>Low</th>\n",
       "      <th>High</th>\n",
       "      <th>Comments</th>\n",
       "      <th>Date</th>\n",
       "      <th>TimeDimensionValue</th>\n",
       "      <th>TimeDimensionBegin</th>\n",
       "      <th>TimeDimensionEnd</th>\n",
       "    </tr>\n",
       "  </thead>\n",
       "  <tbody>\n",
       "    <tr>\n",
       "      <th>0</th>\n",
       "      <td>5540609</td>\n",
       "      <td>NCD_BMI_MINUS2C</td>\n",
       "      <td>COUNTRY</td>\n",
       "      <td>IRL</td>\n",
       "      <td>EUR</td>\n",
       "      <td>YEAR</td>\n",
       "      <td>Europe</td>\n",
       "      <td>SEX</td>\n",
       "      <td>SEX_FMLE</td>\n",
       "      <td>1998</td>\n",
       "      <td>...</td>\n",
       "      <td>None</td>\n",
       "      <td>0.8 [0.4-1.4]</td>\n",
       "      <td>0.83126</td>\n",
       "      <td>0.41813</td>\n",
       "      <td>1.43478</td>\n",
       "      <td>None</td>\n",
       "      <td>2024-02-29T16:06:41.017+01:00</td>\n",
       "      <td>1998</td>\n",
       "      <td>1998-01-01T00:00:00+01:00</td>\n",
       "      <td>1998-12-31T00:00:00+01:00</td>\n",
       "    </tr>\n",
       "    <tr>\n",
       "      <th>1</th>\n",
       "      <td>5540614</td>\n",
       "      <td>NCD_BMI_MINUS2C</td>\n",
       "      <td>COUNTRY</td>\n",
       "      <td>RUS</td>\n",
       "      <td>EUR</td>\n",
       "      <td>YEAR</td>\n",
       "      <td>Europe</td>\n",
       "      <td>SEX</td>\n",
       "      <td>SEX_FMLE</td>\n",
       "      <td>2010</td>\n",
       "      <td>...</td>\n",
       "      <td>None</td>\n",
       "      <td>3.4 [2.6-4.3]</td>\n",
       "      <td>3.40803</td>\n",
       "      <td>2.61038</td>\n",
       "      <td>4.28252</td>\n",
       "      <td>None</td>\n",
       "      <td>2024-02-29T16:06:41.017+01:00</td>\n",
       "      <td>2010</td>\n",
       "      <td>2010-01-01T00:00:00+01:00</td>\n",
       "      <td>2010-12-31T00:00:00+01:00</td>\n",
       "    </tr>\n",
       "  </tbody>\n",
       "</table>\n",
       "<p>2 rows × 25 columns</p>\n",
       "</div>"
      ],
      "text/plain": [
       "        Id    IndicatorCode SpatialDimType SpatialDim ParentLocationCode  \\\n",
       "0  5540609  NCD_BMI_MINUS2C        COUNTRY        IRL                EUR   \n",
       "1  5540614  NCD_BMI_MINUS2C        COUNTRY        RUS                EUR   \n",
       "\n",
       "  TimeDimType ParentLocation Dim1Type      Dim1  TimeDim  ... DataSourceDim  \\\n",
       "0        YEAR         Europe      SEX  SEX_FMLE     1998  ...          None   \n",
       "1        YEAR         Europe      SEX  SEX_FMLE     2010  ...          None   \n",
       "\n",
       "           Value NumericValue      Low     High Comments  \\\n",
       "0  0.8 [0.4-1.4]      0.83126  0.41813  1.43478     None   \n",
       "1  3.4 [2.6-4.3]      3.40803  2.61038  4.28252     None   \n",
       "\n",
       "                            Date  TimeDimensionValue  \\\n",
       "0  2024-02-29T16:06:41.017+01:00                1998   \n",
       "1  2024-02-29T16:06:41.017+01:00                2010   \n",
       "\n",
       "          TimeDimensionBegin           TimeDimensionEnd  \n",
       "0  1998-01-01T00:00:00+01:00  1998-12-31T00:00:00+01:00  \n",
       "1  2010-01-01T00:00:00+01:00  2010-12-31T00:00:00+01:00  \n",
       "\n",
       "[2 rows x 25 columns]"
      ]
     },
     "execution_count": 14,
     "metadata": {},
     "output_type": "execute_result"
    }
   ],
   "source": [
    "url = \"https://ghoapi.azureedge.net/api/NCD_BMI_MINUS2C\"\n",
    "underweight_children = convert_dataframe(url)\n",
    "underweight_children.head(2)"
   ]
  },
  {
   "cell_type": "markdown",
   "id": "db2926c4-093f-4547-924f-5255ae5b8372",
   "metadata": {},
   "source": [
    "### <span style=\"color:#2E6F40;\">**🔄 Preprocessing Steps**</span>"
   ]
  },
  {
   "cell_type": "markdown",
   "id": "c73e4796-f7b7-4738-94a3-7cc6e7c38b2a",
   "metadata": {},
   "source": [
    "#### <span style=\"color:#4272FF;\">**2. Add a new column <u>*age_group*</u> to distinguish adults and children**</span>"
   ]
  },
  {
   "cell_type": "code",
   "execution_count": 17,
   "id": "5dae8086-5ea2-4670-bf39-9fe0b5fb61df",
   "metadata": {},
   "outputs": [],
   "source": [
    "obesity_adults['age_group'] = 'adult'\n",
    "obesity_children['age_group'] = 'children'\n",
    "underweight_adults['age_group'] = 'adult'\n",
    "underweight_children['age_group'] = 'children'"
   ]
  },
  {
   "cell_type": "code",
   "execution_count": 18,
   "id": "61eed88e-1c0d-4901-9b3e-d6a1527e0d94",
   "metadata": {},
   "outputs": [
    {
     "name": "stdout",
     "output_type": "stream",
     "text": [
      "Index(['Id', 'IndicatorCode', 'SpatialDimType', 'SpatialDim', 'TimeDimType',\n",
      "       'ParentLocationCode', 'ParentLocation', 'Dim1Type', 'TimeDim', 'Dim1',\n",
      "       'Dim2Type', 'Dim2', 'Dim3Type', 'Dim3', 'DataSourceDimType',\n",
      "       'DataSourceDim', 'Value', 'NumericValue', 'Low', 'High', 'Comments',\n",
      "       'Date', 'TimeDimensionValue', 'TimeDimensionBegin', 'TimeDimensionEnd',\n",
      "       'age_group'],\n",
      "      dtype='object')\n"
     ]
    },
    {
     "data": {
      "text/html": [
       "<div>\n",
       "<style scoped>\n",
       "    .dataframe tbody tr th:only-of-type {\n",
       "        vertical-align: middle;\n",
       "    }\n",
       "\n",
       "    .dataframe tbody tr th {\n",
       "        vertical-align: top;\n",
       "    }\n",
       "\n",
       "    .dataframe thead th {\n",
       "        text-align: right;\n",
       "    }\n",
       "</style>\n",
       "<table border=\"1\" class=\"dataframe\">\n",
       "  <thead>\n",
       "    <tr style=\"text-align: right;\">\n",
       "      <th></th>\n",
       "      <th>Id</th>\n",
       "      <th>IndicatorCode</th>\n",
       "      <th>SpatialDimType</th>\n",
       "      <th>SpatialDim</th>\n",
       "      <th>TimeDimType</th>\n",
       "      <th>ParentLocationCode</th>\n",
       "      <th>ParentLocation</th>\n",
       "      <th>Dim1Type</th>\n",
       "      <th>TimeDim</th>\n",
       "      <th>Dim1</th>\n",
       "      <th>...</th>\n",
       "      <th>Value</th>\n",
       "      <th>NumericValue</th>\n",
       "      <th>Low</th>\n",
       "      <th>High</th>\n",
       "      <th>Comments</th>\n",
       "      <th>Date</th>\n",
       "      <th>TimeDimensionValue</th>\n",
       "      <th>TimeDimensionBegin</th>\n",
       "      <th>TimeDimensionEnd</th>\n",
       "      <th>age_group</th>\n",
       "    </tr>\n",
       "  </thead>\n",
       "  <tbody>\n",
       "    <tr>\n",
       "      <th>0</th>\n",
       "      <td>5540695</td>\n",
       "      <td>NCD_BMI_30C</td>\n",
       "      <td>COUNTRY</td>\n",
       "      <td>MDA</td>\n",
       "      <td>YEAR</td>\n",
       "      <td>EUR</td>\n",
       "      <td>Europe</td>\n",
       "      <td>SEX</td>\n",
       "      <td>2018</td>\n",
       "      <td>SEX_BTSX</td>\n",
       "      <td>...</td>\n",
       "      <td>25.9 [23.9-28.0]</td>\n",
       "      <td>25.94346</td>\n",
       "      <td>23.92528</td>\n",
       "      <td>28.04794</td>\n",
       "      <td>None</td>\n",
       "      <td>2024-02-29T16:06:41.017+01:00</td>\n",
       "      <td>2018</td>\n",
       "      <td>2018-01-01T00:00:00+01:00</td>\n",
       "      <td>2018-12-31T00:00:00+01:00</td>\n",
       "      <td>adult</td>\n",
       "    </tr>\n",
       "    <tr>\n",
       "      <th>1</th>\n",
       "      <td>5541156</td>\n",
       "      <td>NCD_BMI_30C</td>\n",
       "      <td>COUNTRY</td>\n",
       "      <td>IRL</td>\n",
       "      <td>YEAR</td>\n",
       "      <td>EUR</td>\n",
       "      <td>Europe</td>\n",
       "      <td>SEX</td>\n",
       "      <td>1995</td>\n",
       "      <td>SEX_MLE</td>\n",
       "      <td>...</td>\n",
       "      <td>16.3 [13.6-19.2]</td>\n",
       "      <td>16.26016</td>\n",
       "      <td>13.62936</td>\n",
       "      <td>19.19998</td>\n",
       "      <td>None</td>\n",
       "      <td>2024-02-29T16:06:41.017+01:00</td>\n",
       "      <td>1995</td>\n",
       "      <td>1995-01-01T00:00:00+01:00</td>\n",
       "      <td>1995-12-31T00:00:00+01:00</td>\n",
       "      <td>adult</td>\n",
       "    </tr>\n",
       "  </tbody>\n",
       "</table>\n",
       "<p>2 rows × 26 columns</p>\n",
       "</div>"
      ],
      "text/plain": [
       "        Id IndicatorCode SpatialDimType SpatialDim TimeDimType  \\\n",
       "0  5540695   NCD_BMI_30C        COUNTRY        MDA        YEAR   \n",
       "1  5541156   NCD_BMI_30C        COUNTRY        IRL        YEAR   \n",
       "\n",
       "  ParentLocationCode ParentLocation Dim1Type  TimeDim      Dim1  ...  \\\n",
       "0                EUR         Europe      SEX     2018  SEX_BTSX  ...   \n",
       "1                EUR         Europe      SEX     1995   SEX_MLE  ...   \n",
       "\n",
       "              Value NumericValue       Low      High Comments  \\\n",
       "0  25.9 [23.9-28.0]     25.94346  23.92528  28.04794     None   \n",
       "1  16.3 [13.6-19.2]     16.26016  13.62936  19.19998     None   \n",
       "\n",
       "                            Date TimeDimensionValue  \\\n",
       "0  2024-02-29T16:06:41.017+01:00               2018   \n",
       "1  2024-02-29T16:06:41.017+01:00               1995   \n",
       "\n",
       "          TimeDimensionBegin           TimeDimensionEnd  age_group  \n",
       "0  2018-01-01T00:00:00+01:00  2018-12-31T00:00:00+01:00      adult  \n",
       "1  1995-01-01T00:00:00+01:00  1995-12-31T00:00:00+01:00      adult  \n",
       "\n",
       "[2 rows x 26 columns]"
      ]
     },
     "execution_count": 18,
     "metadata": {},
     "output_type": "execute_result"
    }
   ],
   "source": [
    "# verify one df\n",
    "print(obesity_adults.columns)\n",
    "obesity_adults.head(2)"
   ]
  },
  {
   "cell_type": "markdown",
   "id": "ec464024-dabb-4a2d-a47b-86e227e064c8",
   "metadata": {},
   "source": [
    "#### <span style=\"color:#4272FF;\">**3. Combine the two obesity datasets into one dataframe called <u>*df_obesity*</u>**</span>"
   ]
  },
  {
   "cell_type": "code",
   "execution_count": 20,
   "id": "e7b88eeb-ecda-4eb4-a296-b85bf220ed7e",
   "metadata": {},
   "outputs": [
    {
     "name": "stdout",
     "output_type": "stream",
     "text": [
      "(20790, 26)\n",
      "(62370, 26)\n"
     ]
    }
   ],
   "source": [
    "print(obesity_adults.shape)\n",
    "print(obesity_children.shape)"
   ]
  },
  {
   "cell_type": "code",
   "execution_count": 21,
   "id": "a8eb131e-6661-4bbf-868b-7d6eca6d0489",
   "metadata": {},
   "outputs": [],
   "source": [
    "# concat two dataframe\n",
    "df_obesity = pd.concat([obesity_adults, obesity_children], ignore_index=True, sort=False)"
   ]
  },
  {
   "cell_type": "code",
   "execution_count": 22,
   "id": "498554bc-3498-42f2-a89e-2d9f4afae7b4",
   "metadata": {},
   "outputs": [
    {
     "data": {
      "text/plain": [
       "(83160, 26)"
      ]
     },
     "execution_count": 22,
     "metadata": {},
     "output_type": "execute_result"
    }
   ],
   "source": [
    "df_obesity.shape"
   ]
  },
  {
   "cell_type": "code",
   "execution_count": 23,
   "id": "cbe97062-d996-4ab8-829f-bf63f8af3254",
   "metadata": {},
   "outputs": [
    {
     "data": {
      "text/plain": [
       "age_group\n",
       "children    62370\n",
       "adult       20790\n",
       "Name: count, dtype: int64"
      ]
     },
     "execution_count": 23,
     "metadata": {},
     "output_type": "execute_result"
    }
   ],
   "source": [
    "df_obesity['age_group'].value_counts()"
   ]
  },
  {
   "cell_type": "markdown",
   "id": "7d8be7e1-ab85-41de-bae3-12ec7e48d941",
   "metadata": {},
   "source": [
    "#### <span style=\"color:#4272FF;\">**4. Combine the two malnutrition datasets into one dataframe called <u>*df_malnutrition*</u>**</span>"
   ]
  },
  {
   "cell_type": "code",
   "execution_count": 25,
   "id": "8cd7b513-4eb8-4701-a5eb-8955f274e7ac",
   "metadata": {},
   "outputs": [
    {
     "name": "stdout",
     "output_type": "stream",
     "text": [
      "(20790, 26)\n",
      "(62370, 26)\n"
     ]
    }
   ],
   "source": [
    "print(underweight_adults.shape)\n",
    "print(underweight_children.shape)"
   ]
  },
  {
   "cell_type": "code",
   "execution_count": 26,
   "id": "3fb0a766-fa26-424e-8c36-319da7cc716d",
   "metadata": {},
   "outputs": [],
   "source": [
    "# concat two dataframe\n",
    "df_malnutrition = pd.concat([underweight_adults, underweight_children], ignore_index=True, sort=False)"
   ]
  },
  {
   "cell_type": "code",
   "execution_count": 27,
   "id": "39ba9c60-d6ba-49ca-ba71-39d15431e864",
   "metadata": {},
   "outputs": [
    {
     "data": {
      "text/plain": [
       "(83160, 26)"
      ]
     },
     "execution_count": 27,
     "metadata": {},
     "output_type": "execute_result"
    }
   ],
   "source": [
    "df_malnutrition.shape"
   ]
  },
  {
   "cell_type": "code",
   "execution_count": 28,
   "id": "b17a54ba-f4f9-4ce8-829c-ba6db4f340d7",
   "metadata": {},
   "outputs": [
    {
     "data": {
      "text/plain": [
       "age_group\n",
       "children    62370\n",
       "adult       20790\n",
       "Name: count, dtype: int64"
      ]
     },
     "execution_count": 28,
     "metadata": {},
     "output_type": "execute_result"
    }
   ],
   "source": [
    "df_malnutrition['age_group'].value_counts()"
   ]
  },
  {
   "cell_type": "markdown",
   "id": "f7097289-b988-4eac-92d8-9429e63b383a",
   "metadata": {},
   "source": [
    "#### <span style=\"color:#4272FF;\">**5. Filter each dataset to include only records from the years <u>*2012 to 2022*</u>**</span>"
   ]
  },
  {
   "cell_type": "code",
   "execution_count": 30,
   "id": "a8391db6-c24d-47c1-b6d0-1b4e5e7a1a8e",
   "metadata": {},
   "outputs": [],
   "source": [
    "df_obesity = df_obesity[(df_obesity['TimeDim'] >= 2012) & (df_obesity['TimeDim'] <= 2022)]"
   ]
  },
  {
   "cell_type": "code",
   "execution_count": 31,
   "id": "e2ca8c1a-c7a3-409a-a512-160177ff996b",
   "metadata": {},
   "outputs": [
    {
     "name": "stdout",
     "output_type": "stream",
     "text": [
      "(27720, 26)\n"
     ]
    },
    {
     "data": {
      "text/plain": [
       "age_group\n",
       "children    20790\n",
       "adult        6930\n",
       "Name: count, dtype: int64"
      ]
     },
     "execution_count": 31,
     "metadata": {},
     "output_type": "execute_result"
    }
   ],
   "source": [
    "print(df_obesity.shape)\n",
    "df_obesity['age_group'].value_counts()"
   ]
  },
  {
   "cell_type": "code",
   "execution_count": 32,
   "id": "2ff624e6-4193-4116-85e6-4f48bfbc3fb1",
   "metadata": {},
   "outputs": [],
   "source": [
    "df_malnutrition = df_malnutrition[(df_malnutrition['TimeDim'] >= 2012) & (df_malnutrition['TimeDim'] <= 2022)]"
   ]
  },
  {
   "cell_type": "code",
   "execution_count": 33,
   "id": "0acfd13e-9c94-4eb0-ae79-6353846939a1",
   "metadata": {},
   "outputs": [
    {
     "name": "stdout",
     "output_type": "stream",
     "text": [
      "(27720, 26)\n"
     ]
    },
    {
     "data": {
      "text/plain": [
       "age_group\n",
       "children    20790\n",
       "adult        6930\n",
       "Name: count, dtype: int64"
      ]
     },
     "execution_count": 33,
     "metadata": {},
     "output_type": "execute_result"
    }
   ],
   "source": [
    "print(df_malnutrition.shape)\n",
    "df_malnutrition['age_group'].value_counts()"
   ]
  },
  {
   "cell_type": "markdown",
   "id": "2cddab5a-efb4-487d-a12d-0df0004f4da2",
   "metadata": {},
   "source": [
    "### <span style=\"color:#2E6F40;\">**Step 2: 🧹 Data Cleaning & Feature Engineering**</span>"
   ]
  },
  {
   "cell_type": "markdown",
   "id": "40e388b8-c040-4261-9c79-3395f82d303b",
   "metadata": {},
   "source": [
    "#### <span style=\"color:#4272FF;\">**Keep necessary columns**</span>"
   ]
  },
  {
   "cell_type": "code",
   "execution_count": 36,
   "id": "5f538634-1496-460e-a98e-e878f67232ae",
   "metadata": {},
   "outputs": [
    {
     "data": {
      "text/plain": [
       "Index(['Id', 'IndicatorCode', 'SpatialDimType', 'SpatialDim', 'TimeDimType',\n",
       "       'ParentLocationCode', 'ParentLocation', 'Dim1Type', 'TimeDim', 'Dim1',\n",
       "       'Dim2Type', 'Dim2', 'Dim3Type', 'Dim3', 'DataSourceDimType',\n",
       "       'DataSourceDim', 'Value', 'NumericValue', 'Low', 'High', 'Comments',\n",
       "       'Date', 'TimeDimensionValue', 'TimeDimensionBegin', 'TimeDimensionEnd',\n",
       "       'age_group'],\n",
       "      dtype='object')"
      ]
     },
     "execution_count": 36,
     "metadata": {},
     "output_type": "execute_result"
    }
   ],
   "source": [
    "df_obesity.columns"
   ]
  },
  {
   "cell_type": "code",
   "execution_count": 37,
   "id": "afbbfee5-d1f1-4e0b-beca-4e4f1ee30cd7",
   "metadata": {},
   "outputs": [
    {
     "data": {
      "text/html": [
       "<div>\n",
       "<style scoped>\n",
       "    .dataframe tbody tr th:only-of-type {\n",
       "        vertical-align: middle;\n",
       "    }\n",
       "\n",
       "    .dataframe tbody tr th {\n",
       "        vertical-align: top;\n",
       "    }\n",
       "\n",
       "    .dataframe thead th {\n",
       "        text-align: right;\n",
       "    }\n",
       "</style>\n",
       "<table border=\"1\" class=\"dataframe\">\n",
       "  <thead>\n",
       "    <tr style=\"text-align: right;\">\n",
       "      <th></th>\n",
       "      <th>ParentLocation</th>\n",
       "      <th>Dim1</th>\n",
       "      <th>TimeDim</th>\n",
       "      <th>Low</th>\n",
       "      <th>High</th>\n",
       "      <th>NumericValue</th>\n",
       "      <th>SpatialDim</th>\n",
       "      <th>age_group</th>\n",
       "    </tr>\n",
       "  </thead>\n",
       "  <tbody>\n",
       "    <tr>\n",
       "      <th>67245</th>\n",
       "      <td>Eastern Mediterranean</td>\n",
       "      <td>SEX_FMLE</td>\n",
       "      <td>2015</td>\n",
       "      <td>6.16674</td>\n",
       "      <td>11.07013</td>\n",
       "      <td>8.42710</td>\n",
       "      <td>PSE</td>\n",
       "      <td>children</td>\n",
       "    </tr>\n",
       "    <tr>\n",
       "      <th>32816</th>\n",
       "      <td>Eastern Mediterranean</td>\n",
       "      <td>SEX_FMLE</td>\n",
       "      <td>2021</td>\n",
       "      <td>8.87601</td>\n",
       "      <td>21.69887</td>\n",
       "      <td>14.90747</td>\n",
       "      <td>OMN</td>\n",
       "      <td>children</td>\n",
       "    </tr>\n",
       "  </tbody>\n",
       "</table>\n",
       "</div>"
      ],
      "text/plain": [
       "              ParentLocation      Dim1  TimeDim      Low      High  \\\n",
       "67245  Eastern Mediterranean  SEX_FMLE     2015  6.16674  11.07013   \n",
       "32816  Eastern Mediterranean  SEX_FMLE     2021  8.87601  21.69887   \n",
       "\n",
       "       NumericValue SpatialDim age_group  \n",
       "67245       8.42710        PSE  children  \n",
       "32816      14.90747        OMN  children  "
      ]
     },
     "execution_count": 37,
     "metadata": {},
     "output_type": "execute_result"
    }
   ],
   "source": [
    "df_obesity = df_obesity[['ParentLocation', 'Dim1', 'TimeDim', 'Low', 'High', 'NumericValue', 'SpatialDim', 'age_group']]\n",
    "df_obesity.sample(2)"
   ]
  },
  {
   "cell_type": "code",
   "execution_count": 38,
   "id": "2850c30b-9991-47ea-a176-6f023661581c",
   "metadata": {},
   "outputs": [
    {
     "data": {
      "text/html": [
       "<div>\n",
       "<style scoped>\n",
       "    .dataframe tbody tr th:only-of-type {\n",
       "        vertical-align: middle;\n",
       "    }\n",
       "\n",
       "    .dataframe tbody tr th {\n",
       "        vertical-align: top;\n",
       "    }\n",
       "\n",
       "    .dataframe thead th {\n",
       "        text-align: right;\n",
       "    }\n",
       "</style>\n",
       "<table border=\"1\" class=\"dataframe\">\n",
       "  <thead>\n",
       "    <tr style=\"text-align: right;\">\n",
       "      <th></th>\n",
       "      <th>ParentLocation</th>\n",
       "      <th>Dim1</th>\n",
       "      <th>TimeDim</th>\n",
       "      <th>Low</th>\n",
       "      <th>High</th>\n",
       "      <th>NumericValue</th>\n",
       "      <th>SpatialDim</th>\n",
       "      <th>age_group</th>\n",
       "    </tr>\n",
       "  </thead>\n",
       "  <tbody>\n",
       "    <tr>\n",
       "      <th>38934</th>\n",
       "      <td>Western Pacific</td>\n",
       "      <td>SEX_MLE</td>\n",
       "      <td>2013</td>\n",
       "      <td>7.73364</td>\n",
       "      <td>24.10121</td>\n",
       "      <td>15.17648</td>\n",
       "      <td>SGP</td>\n",
       "      <td>children</td>\n",
       "    </tr>\n",
       "    <tr>\n",
       "      <th>46523</th>\n",
       "      <td>Europe</td>\n",
       "      <td>SEX_MLE</td>\n",
       "      <td>2014</td>\n",
       "      <td>7.75662</td>\n",
       "      <td>12.29987</td>\n",
       "      <td>9.84622</td>\n",
       "      <td>BGR</td>\n",
       "      <td>children</td>\n",
       "    </tr>\n",
       "  </tbody>\n",
       "</table>\n",
       "</div>"
      ],
      "text/plain": [
       "        ParentLocation     Dim1  TimeDim      Low      High  NumericValue  \\\n",
       "38934  Western Pacific  SEX_MLE     2013  7.73364  24.10121      15.17648   \n",
       "46523           Europe  SEX_MLE     2014  7.75662  12.29987       9.84622   \n",
       "\n",
       "      SpatialDim age_group  \n",
       "38934        SGP  children  \n",
       "46523        BGR  children  "
      ]
     },
     "execution_count": 38,
     "metadata": {},
     "output_type": "execute_result"
    }
   ],
   "source": [
    "df_malnutrition = df_malnutrition[['ParentLocation', 'Dim1', 'TimeDim', 'Low', 'High', 'NumericValue', 'SpatialDim', 'age_group']]\n",
    "df_obesity.sample(2)"
   ]
  },
  {
   "cell_type": "markdown",
   "id": "76f8d224-fd7c-4a15-b8d2-38d67f798bb6",
   "metadata": {},
   "source": [
    "#### <span style=\"color:#4272FF;\">**Rename Columns**</span>"
   ]
  },
  {
   "cell_type": "code",
   "execution_count": 40,
   "id": "2ba31374-c143-47bc-a08d-584c1f5b635c",
   "metadata": {},
   "outputs": [
    {
     "data": {
      "text/html": [
       "<div>\n",
       "<style scoped>\n",
       "    .dataframe tbody tr th:only-of-type {\n",
       "        vertical-align: middle;\n",
       "    }\n",
       "\n",
       "    .dataframe tbody tr th {\n",
       "        vertical-align: top;\n",
       "    }\n",
       "\n",
       "    .dataframe thead th {\n",
       "        text-align: right;\n",
       "    }\n",
       "</style>\n",
       "<table border=\"1\" class=\"dataframe\">\n",
       "  <thead>\n",
       "    <tr style=\"text-align: right;\">\n",
       "      <th></th>\n",
       "      <th>Region</th>\n",
       "      <th>Gender</th>\n",
       "      <th>Year</th>\n",
       "      <th>LowerBound</th>\n",
       "      <th>UpperBound</th>\n",
       "      <th>Mean_Estimate</th>\n",
       "      <th>Country</th>\n",
       "      <th>age_group</th>\n",
       "    </tr>\n",
       "  </thead>\n",
       "  <tbody>\n",
       "    <tr>\n",
       "      <th>5057</th>\n",
       "      <td>Africa</td>\n",
       "      <td>SEX_BTSX</td>\n",
       "      <td>2021</td>\n",
       "      <td>4.20547</td>\n",
       "      <td>6.07868</td>\n",
       "      <td>5.08075</td>\n",
       "      <td>NER</td>\n",
       "      <td>adult</td>\n",
       "    </tr>\n",
       "    <tr>\n",
       "      <th>2597</th>\n",
       "      <td>Europe</td>\n",
       "      <td>SEX_BTSX</td>\n",
       "      <td>2018</td>\n",
       "      <td>30.12629</td>\n",
       "      <td>33.72573</td>\n",
       "      <td>31.86981</td>\n",
       "      <td>TUR</td>\n",
       "      <td>adult</td>\n",
       "    </tr>\n",
       "  </tbody>\n",
       "</table>\n",
       "</div>"
      ],
      "text/plain": [
       "      Region    Gender  Year  LowerBound  UpperBound  Mean_Estimate Country  \\\n",
       "5057  Africa  SEX_BTSX  2021     4.20547     6.07868        5.08075     NER   \n",
       "2597  Europe  SEX_BTSX  2018    30.12629    33.72573       31.86981     TUR   \n",
       "\n",
       "     age_group  \n",
       "5057     adult  \n",
       "2597     adult  "
      ]
     },
     "execution_count": 40,
     "metadata": {},
     "output_type": "execute_result"
    }
   ],
   "source": [
    "new_columns = {'TimeDim': 'Year', 'Dim1': 'Gender', 'NumericValue': 'Mean_Estimate',\n",
    "               'Low': 'LowerBound', 'High': 'UpperBound', 'ParentLocation': 'Region',\n",
    "              'SpatialDim': 'Country'}\n",
    "df_obesity = df_obesity.rename(columns=new_columns)\n",
    "df_obesity.sample(2)"
   ]
  },
  {
   "cell_type": "code",
   "execution_count": 41,
   "id": "bbb5c775-fb78-4768-90f9-378ea537a164",
   "metadata": {},
   "outputs": [
    {
     "data": {
      "text/html": [
       "<div>\n",
       "<style scoped>\n",
       "    .dataframe tbody tr th:only-of-type {\n",
       "        vertical-align: middle;\n",
       "    }\n",
       "\n",
       "    .dataframe tbody tr th {\n",
       "        vertical-align: top;\n",
       "    }\n",
       "\n",
       "    .dataframe thead th {\n",
       "        text-align: right;\n",
       "    }\n",
       "</style>\n",
       "<table border=\"1\" class=\"dataframe\">\n",
       "  <thead>\n",
       "    <tr style=\"text-align: right;\">\n",
       "      <th></th>\n",
       "      <th>Region</th>\n",
       "      <th>Gender</th>\n",
       "      <th>Year</th>\n",
       "      <th>LowerBound</th>\n",
       "      <th>UpperBound</th>\n",
       "      <th>Mean_Estimate</th>\n",
       "      <th>Country</th>\n",
       "      <th>age_group</th>\n",
       "    </tr>\n",
       "  </thead>\n",
       "  <tbody>\n",
       "    <tr>\n",
       "      <th>19153</th>\n",
       "      <td>None</td>\n",
       "      <td>SEX_BTSX</td>\n",
       "      <td>2015</td>\n",
       "      <td>11.55091</td>\n",
       "      <td>12.59849</td>\n",
       "      <td>12.07060</td>\n",
       "      <td>AFR</td>\n",
       "      <td>adult</td>\n",
       "    </tr>\n",
       "    <tr>\n",
       "      <th>56529</th>\n",
       "      <td>Americas</td>\n",
       "      <td>SEX_FMLE</td>\n",
       "      <td>2017</td>\n",
       "      <td>0.16926</td>\n",
       "      <td>2.85700</td>\n",
       "      <td>0.95025</td>\n",
       "      <td>BOL</td>\n",
       "      <td>children</td>\n",
       "    </tr>\n",
       "  </tbody>\n",
       "</table>\n",
       "</div>"
      ],
      "text/plain": [
       "         Region    Gender  Year  LowerBound  UpperBound  Mean_Estimate  \\\n",
       "19153      None  SEX_BTSX  2015    11.55091    12.59849       12.07060   \n",
       "56529  Americas  SEX_FMLE  2017     0.16926     2.85700        0.95025   \n",
       "\n",
       "      Country age_group  \n",
       "19153     AFR     adult  \n",
       "56529     BOL  children  "
      ]
     },
     "execution_count": 41,
     "metadata": {},
     "output_type": "execute_result"
    }
   ],
   "source": [
    "df_malnutrition = df_malnutrition.rename(columns=new_columns)\n",
    "df_malnutrition.sample(2)"
   ]
  },
  {
   "cell_type": "markdown",
   "id": "58824013-60df-4a2d-88ea-645fafde6586",
   "metadata": {},
   "source": [
    "#### <span style=\"color:#4272FF;\">**Convert Country Codes to Full Names using <u>*pycountry*</u>**</span>"
   ]
  },
  {
   "cell_type": "code",
   "execution_count": 43,
   "id": "5b2a0e31-86ad-4240-b3b8-a931ab915cff",
   "metadata": {},
   "outputs": [],
   "source": [
    "# Define a function to convert the 3-letter codes to full names\n",
    "def country_conversion(code):\n",
    "    special_cases = {\n",
    "                    'GLOBAL': 'Global',\n",
    "                    'WB_LMI': 'Low & Middle Income',\n",
    "                    'WB_HI': 'High Income',\n",
    "                    'WB_LI': 'Low Income',\n",
    "                    'EMR': 'Eastern Mediterranean Region',\n",
    "                    'EUR': 'Europe',\n",
    "                    'AFR': 'Africa',\n",
    "                    'SEAR': 'South-East Asia Region',\n",
    "                    'WPR': 'Western Pacific Region',\n",
    "                    'AMR': 'Americas Region',\n",
    "                    'WB_UMI': 'Upper Middle Income'}\n",
    "    if code in special_cases:\n",
    "        return special_cases[code]\n",
    "    else:\n",
    "        country_details = pycountry.countries.get(alpha_3 = code)\n",
    "        country_name = country_details.name\n",
    "        return country_name"
   ]
  },
  {
   "cell_type": "code",
   "execution_count": 44,
   "id": "beb0890c-6743-40a7-83d1-d870e357133a",
   "metadata": {},
   "outputs": [],
   "source": [
    "df_obesity['Country'] = df_obesity['Country'].apply(country_conversion)"
   ]
  },
  {
   "cell_type": "code",
   "execution_count": 45,
   "id": "9ce3e6d6-e585-4b06-bc7d-c0e0c0e9cca8",
   "metadata": {},
   "outputs": [
    {
     "data": {
      "text/html": [
       "<div>\n",
       "<style scoped>\n",
       "    .dataframe tbody tr th:only-of-type {\n",
       "        vertical-align: middle;\n",
       "    }\n",
       "\n",
       "    .dataframe tbody tr th {\n",
       "        vertical-align: top;\n",
       "    }\n",
       "\n",
       "    .dataframe thead th {\n",
       "        text-align: right;\n",
       "    }\n",
       "</style>\n",
       "<table border=\"1\" class=\"dataframe\">\n",
       "  <thead>\n",
       "    <tr style=\"text-align: right;\">\n",
       "      <th></th>\n",
       "      <th>Region</th>\n",
       "      <th>Gender</th>\n",
       "      <th>Year</th>\n",
       "      <th>LowerBound</th>\n",
       "      <th>UpperBound</th>\n",
       "      <th>Mean_Estimate</th>\n",
       "      <th>Country</th>\n",
       "      <th>age_group</th>\n",
       "    </tr>\n",
       "  </thead>\n",
       "  <tbody>\n",
       "    <tr>\n",
       "      <th>12242</th>\n",
       "      <td>Europe</td>\n",
       "      <td>SEX_FMLE</td>\n",
       "      <td>2020</td>\n",
       "      <td>21.41272</td>\n",
       "      <td>32.91575</td>\n",
       "      <td>26.84728</td>\n",
       "      <td>Slovakia</td>\n",
       "      <td>adult</td>\n",
       "    </tr>\n",
       "    <tr>\n",
       "      <th>71838</th>\n",
       "      <td>Americas</td>\n",
       "      <td>SEX_MLE</td>\n",
       "      <td>2017</td>\n",
       "      <td>7.60953</td>\n",
       "      <td>33.78390</td>\n",
       "      <td>19.25124</td>\n",
       "      <td>Dominica</td>\n",
       "      <td>children</td>\n",
       "    </tr>\n",
       "  </tbody>\n",
       "</table>\n",
       "</div>"
      ],
      "text/plain": [
       "         Region    Gender  Year  LowerBound  UpperBound  Mean_Estimate  \\\n",
       "12242    Europe  SEX_FMLE  2020    21.41272    32.91575       26.84728   \n",
       "71838  Americas   SEX_MLE  2017     7.60953    33.78390       19.25124   \n",
       "\n",
       "        Country age_group  \n",
       "12242  Slovakia     adult  \n",
       "71838  Dominica  children  "
      ]
     },
     "execution_count": 45,
     "metadata": {},
     "output_type": "execute_result"
    }
   ],
   "source": [
    "df_obesity.sample(2)"
   ]
  },
  {
   "cell_type": "code",
   "execution_count": 46,
   "id": "ad9771e3-2f99-4bdf-b610-99a13642111f",
   "metadata": {},
   "outputs": [],
   "source": [
    "df_malnutrition['Country'] = df_malnutrition['Country'].apply(country_conversion)"
   ]
  },
  {
   "cell_type": "code",
   "execution_count": 47,
   "id": "23a8157b-9c0d-4ea9-bbbc-7a1cd2d1164b",
   "metadata": {},
   "outputs": [
    {
     "data": {
      "text/html": [
       "<div>\n",
       "<style scoped>\n",
       "    .dataframe tbody tr th:only-of-type {\n",
       "        vertical-align: middle;\n",
       "    }\n",
       "\n",
       "    .dataframe tbody tr th {\n",
       "        vertical-align: top;\n",
       "    }\n",
       "\n",
       "    .dataframe thead th {\n",
       "        text-align: right;\n",
       "    }\n",
       "</style>\n",
       "<table border=\"1\" class=\"dataframe\">\n",
       "  <thead>\n",
       "    <tr style=\"text-align: right;\">\n",
       "      <th></th>\n",
       "      <th>Region</th>\n",
       "      <th>Gender</th>\n",
       "      <th>Year</th>\n",
       "      <th>LowerBound</th>\n",
       "      <th>UpperBound</th>\n",
       "      <th>Mean_Estimate</th>\n",
       "      <th>Country</th>\n",
       "      <th>age_group</th>\n",
       "    </tr>\n",
       "  </thead>\n",
       "  <tbody>\n",
       "    <tr>\n",
       "      <th>5556</th>\n",
       "      <td>Americas</td>\n",
       "      <td>SEX_BTSX</td>\n",
       "      <td>2015</td>\n",
       "      <td>2.70096</td>\n",
       "      <td>6.58473</td>\n",
       "      <td>4.40790</td>\n",
       "      <td>Grenada</td>\n",
       "      <td>adult</td>\n",
       "    </tr>\n",
       "    <tr>\n",
       "      <th>19757</th>\n",
       "      <td>Americas</td>\n",
       "      <td>SEX_BTSX</td>\n",
       "      <td>2019</td>\n",
       "      <td>2.49027</td>\n",
       "      <td>5.70946</td>\n",
       "      <td>3.90661</td>\n",
       "      <td>Saint Vincent and the Grenadines</td>\n",
       "      <td>adult</td>\n",
       "    </tr>\n",
       "  </tbody>\n",
       "</table>\n",
       "</div>"
      ],
      "text/plain": [
       "         Region    Gender  Year  LowerBound  UpperBound  Mean_Estimate  \\\n",
       "5556   Americas  SEX_BTSX  2015     2.70096     6.58473        4.40790   \n",
       "19757  Americas  SEX_BTSX  2019     2.49027     5.70946        3.90661   \n",
       "\n",
       "                                Country age_group  \n",
       "5556                            Grenada     adult  \n",
       "19757  Saint Vincent and the Grenadines     adult  "
      ]
     },
     "execution_count": 47,
     "metadata": {},
     "output_type": "execute_result"
    }
   ],
   "source": [
    "df_malnutrition.sample(2)"
   ]
  },
  {
   "cell_type": "markdown",
   "id": "981be679-86e5-49d7-9b93-8af1f8a4cbdb",
   "metadata": {},
   "source": [
    "#### <span style=\"color:#4272FF;\">**New Columns Creation**</span>"
   ]
  },
  {
   "cell_type": "markdown",
   "id": "9459bbfc-d797-4e78-88fd-41da73254651",
   "metadata": {},
   "source": [
    "- **CI_Width column creation**"
   ]
  },
  {
   "cell_type": "code",
   "execution_count": 50,
   "id": "37909930-c758-4e65-b340-14008e2aa171",
   "metadata": {},
   "outputs": [],
   "source": [
    "df_obesity['CI_Width'] = df_obesity['UpperBound'] - df_obesity['LowerBound']\n",
    "df_malnutrition['CI_Width'] = df_malnutrition['UpperBound'] - df_malnutrition['LowerBound']"
   ]
  },
  {
   "cell_type": "markdown",
   "id": "0b714792-de90-469b-a921-c4f9de6bf014",
   "metadata": {},
   "source": [
    "- **obesity_level column creation - (for the obesity table only)**"
   ]
  },
  {
   "cell_type": "code",
   "execution_count": 52,
   "id": "94acd996-f3e5-4480-a896-e7c1cc2c2f2f",
   "metadata": {},
   "outputs": [],
   "source": [
    "# Define function to categorize the obesity_level\n",
    "def obesity_level(value):\n",
    "    if value >= 30:\n",
    "        return 'High'\n",
    "    elif value < 25:\n",
    "        return 'Low'\n",
    "    else:\n",
    "        return 'Moderate'"
   ]
  },
  {
   "cell_type": "code",
   "execution_count": 53,
   "id": "b35dcc1c-c716-49ff-bc1b-d2ce89a9d5c4",
   "metadata": {},
   "outputs": [
    {
     "data": {
      "text/html": [
       "<div>\n",
       "<style scoped>\n",
       "    .dataframe tbody tr th:only-of-type {\n",
       "        vertical-align: middle;\n",
       "    }\n",
       "\n",
       "    .dataframe tbody tr th {\n",
       "        vertical-align: top;\n",
       "    }\n",
       "\n",
       "    .dataframe thead th {\n",
       "        text-align: right;\n",
       "    }\n",
       "</style>\n",
       "<table border=\"1\" class=\"dataframe\">\n",
       "  <thead>\n",
       "    <tr style=\"text-align: right;\">\n",
       "      <th></th>\n",
       "      <th>Region</th>\n",
       "      <th>Gender</th>\n",
       "      <th>Year</th>\n",
       "      <th>LowerBound</th>\n",
       "      <th>UpperBound</th>\n",
       "      <th>Mean_Estimate</th>\n",
       "      <th>Country</th>\n",
       "      <th>age_group</th>\n",
       "      <th>CI_Width</th>\n",
       "      <th>Obesity_level</th>\n",
       "    </tr>\n",
       "  </thead>\n",
       "  <tbody>\n",
       "    <tr>\n",
       "      <th>0</th>\n",
       "      <td>Europe</td>\n",
       "      <td>SEX_BTSX</td>\n",
       "      <td>2018</td>\n",
       "      <td>23.92528</td>\n",
       "      <td>28.04794</td>\n",
       "      <td>25.94346</td>\n",
       "      <td>Moldova, Republic of</td>\n",
       "      <td>adult</td>\n",
       "      <td>4.12266</td>\n",
       "      <td>Moderate</td>\n",
       "    </tr>\n",
       "    <tr>\n",
       "      <th>5</th>\n",
       "      <td>Eastern Mediterranean</td>\n",
       "      <td>SEX_MLE</td>\n",
       "      <td>2020</td>\n",
       "      <td>15.79378</td>\n",
       "      <td>19.24573</td>\n",
       "      <td>17.48764</td>\n",
       "      <td>Iran, Islamic Republic of</td>\n",
       "      <td>adult</td>\n",
       "      <td>3.45195</td>\n",
       "      <td>Low</td>\n",
       "    </tr>\n",
       "    <tr>\n",
       "      <th>12</th>\n",
       "      <td>Eastern Mediterranean</td>\n",
       "      <td>SEX_MLE</td>\n",
       "      <td>2020</td>\n",
       "      <td>23.08959</td>\n",
       "      <td>33.81534</td>\n",
       "      <td>28.33553</td>\n",
       "      <td>Iraq</td>\n",
       "      <td>adult</td>\n",
       "      <td>10.72575</td>\n",
       "      <td>Moderate</td>\n",
       "    </tr>\n",
       "    <tr>\n",
       "      <th>18</th>\n",
       "      <td>Europe</td>\n",
       "      <td>SEX_FMLE</td>\n",
       "      <td>2014</td>\n",
       "      <td>24.92477</td>\n",
       "      <td>31.21326</td>\n",
       "      <td>27.94870</td>\n",
       "      <td>Greenland</td>\n",
       "      <td>adult</td>\n",
       "      <td>6.28849</td>\n",
       "      <td>Moderate</td>\n",
       "    </tr>\n",
       "    <tr>\n",
       "      <th>20</th>\n",
       "      <td>Europe</td>\n",
       "      <td>SEX_FMLE</td>\n",
       "      <td>2019</td>\n",
       "      <td>28.16068</td>\n",
       "      <td>35.57493</td>\n",
       "      <td>31.89322</td>\n",
       "      <td>Armenia</td>\n",
       "      <td>adult</td>\n",
       "      <td>7.41425</td>\n",
       "      <td>High</td>\n",
       "    </tr>\n",
       "  </tbody>\n",
       "</table>\n",
       "</div>"
      ],
      "text/plain": [
       "                   Region    Gender  Year  LowerBound  UpperBound  \\\n",
       "0                  Europe  SEX_BTSX  2018    23.92528    28.04794   \n",
       "5   Eastern Mediterranean   SEX_MLE  2020    15.79378    19.24573   \n",
       "12  Eastern Mediterranean   SEX_MLE  2020    23.08959    33.81534   \n",
       "18                 Europe  SEX_FMLE  2014    24.92477    31.21326   \n",
       "20                 Europe  SEX_FMLE  2019    28.16068    35.57493   \n",
       "\n",
       "    Mean_Estimate                    Country age_group  CI_Width Obesity_level  \n",
       "0        25.94346       Moldova, Republic of     adult   4.12266      Moderate  \n",
       "5        17.48764  Iran, Islamic Republic of     adult   3.45195           Low  \n",
       "12       28.33553                       Iraq     adult  10.72575      Moderate  \n",
       "18       27.94870                  Greenland     adult   6.28849      Moderate  \n",
       "20       31.89322                    Armenia     adult   7.41425          High  "
      ]
     },
     "execution_count": 53,
     "metadata": {},
     "output_type": "execute_result"
    }
   ],
   "source": [
    "df_obesity['Obesity_level'] = df_obesity['Mean_Estimate'].apply(obesity_level)\n",
    "df_obesity.head()"
   ]
  },
  {
   "cell_type": "markdown",
   "id": "076ca254-eb85-4fc7-a86c-762d776be10b",
   "metadata": {},
   "source": [
    "- **Malnutrition_Level column creation - (for the malnutrition table only)**"
   ]
  },
  {
   "cell_type": "code",
   "execution_count": 55,
   "id": "ed6a5441-5719-43f2-a449-dedc0a65be40",
   "metadata": {},
   "outputs": [],
   "source": [
    "# Define function to categorize the Malnutrition_Level\n",
    "def malnutrition_level(value):\n",
    "    if value >= 20:\n",
    "        return 'High'\n",
    "    elif value < 10:\n",
    "        return 'Low'\n",
    "    else:\n",
    "        return 'Moderate'"
   ]
  },
  {
   "cell_type": "code",
   "execution_count": 56,
   "id": "3fd8b1a0-9bcd-4160-9352-7f61d167f36b",
   "metadata": {},
   "outputs": [
    {
     "data": {
      "text/html": [
       "<div>\n",
       "<style scoped>\n",
       "    .dataframe tbody tr th:only-of-type {\n",
       "        vertical-align: middle;\n",
       "    }\n",
       "\n",
       "    .dataframe tbody tr th {\n",
       "        vertical-align: top;\n",
       "    }\n",
       "\n",
       "    .dataframe thead th {\n",
       "        text-align: right;\n",
       "    }\n",
       "</style>\n",
       "<table border=\"1\" class=\"dataframe\">\n",
       "  <thead>\n",
       "    <tr style=\"text-align: right;\">\n",
       "      <th></th>\n",
       "      <th>Region</th>\n",
       "      <th>Gender</th>\n",
       "      <th>Year</th>\n",
       "      <th>LowerBound</th>\n",
       "      <th>UpperBound</th>\n",
       "      <th>Mean_Estimate</th>\n",
       "      <th>Country</th>\n",
       "      <th>age_group</th>\n",
       "      <th>CI_Width</th>\n",
       "      <th>Malnutrition_Level</th>\n",
       "    </tr>\n",
       "  </thead>\n",
       "  <tbody>\n",
       "    <tr>\n",
       "      <th>1</th>\n",
       "      <td>Africa</td>\n",
       "      <td>SEX_BTSX</td>\n",
       "      <td>2020</td>\n",
       "      <td>9.70523</td>\n",
       "      <td>12.91453</td>\n",
       "      <td>11.27629</td>\n",
       "      <td>Uganda</td>\n",
       "      <td>adult</td>\n",
       "      <td>3.20930</td>\n",
       "      <td>Moderate</td>\n",
       "    </tr>\n",
       "    <tr>\n",
       "      <th>3</th>\n",
       "      <td>Africa</td>\n",
       "      <td>SEX_FMLE</td>\n",
       "      <td>2015</td>\n",
       "      <td>8.24333</td>\n",
       "      <td>12.07013</td>\n",
       "      <td>10.08010</td>\n",
       "      <td>Mali</td>\n",
       "      <td>adult</td>\n",
       "      <td>3.82680</td>\n",
       "      <td>Moderate</td>\n",
       "    </tr>\n",
       "    <tr>\n",
       "      <th>4</th>\n",
       "      <td>Africa</td>\n",
       "      <td>SEX_FMLE</td>\n",
       "      <td>2021</td>\n",
       "      <td>3.97204</td>\n",
       "      <td>8.07702</td>\n",
       "      <td>5.79511</td>\n",
       "      <td>Gabon</td>\n",
       "      <td>adult</td>\n",
       "      <td>4.10498</td>\n",
       "      <td>Low</td>\n",
       "    </tr>\n",
       "    <tr>\n",
       "      <th>8</th>\n",
       "      <td>Western Pacific</td>\n",
       "      <td>SEX_BTSX</td>\n",
       "      <td>2017</td>\n",
       "      <td>2.42823</td>\n",
       "      <td>3.84215</td>\n",
       "      <td>3.09065</td>\n",
       "      <td>Mongolia</td>\n",
       "      <td>adult</td>\n",
       "      <td>1.41392</td>\n",
       "      <td>Low</td>\n",
       "    </tr>\n",
       "    <tr>\n",
       "      <th>9</th>\n",
       "      <td>Africa</td>\n",
       "      <td>SEX_FMLE</td>\n",
       "      <td>2016</td>\n",
       "      <td>6.65567</td>\n",
       "      <td>10.25312</td>\n",
       "      <td>8.37172</td>\n",
       "      <td>Sierra Leone</td>\n",
       "      <td>adult</td>\n",
       "      <td>3.59745</td>\n",
       "      <td>Low</td>\n",
       "    </tr>\n",
       "  </tbody>\n",
       "</table>\n",
       "</div>"
      ],
      "text/plain": [
       "            Region    Gender  Year  LowerBound  UpperBound  Mean_Estimate  \\\n",
       "1           Africa  SEX_BTSX  2020     9.70523    12.91453       11.27629   \n",
       "3           Africa  SEX_FMLE  2015     8.24333    12.07013       10.08010   \n",
       "4           Africa  SEX_FMLE  2021     3.97204     8.07702        5.79511   \n",
       "8  Western Pacific  SEX_BTSX  2017     2.42823     3.84215        3.09065   \n",
       "9           Africa  SEX_FMLE  2016     6.65567    10.25312        8.37172   \n",
       "\n",
       "        Country age_group  CI_Width Malnutrition_Level  \n",
       "1        Uganda     adult   3.20930           Moderate  \n",
       "3          Mali     adult   3.82680           Moderate  \n",
       "4         Gabon     adult   4.10498                Low  \n",
       "8      Mongolia     adult   1.41392                Low  \n",
       "9  Sierra Leone     adult   3.59745                Low  "
      ]
     },
     "execution_count": 56,
     "metadata": {},
     "output_type": "execute_result"
    }
   ],
   "source": [
    "df_malnutrition['Malnutrition_Level'] = df_malnutrition['Mean_Estimate'].apply(malnutrition_level)\n",
    "df_malnutrition.head()"
   ]
  },
  {
   "cell_type": "markdown",
   "id": "24dba2a6-f521-4fad-b446-64ec684f577b",
   "metadata": {},
   "source": [
    "#### <span style=\"color:#4272FF;\">**Feature Engineering For Gender Column**</span>"
   ]
  },
  {
   "cell_type": "code",
   "execution_count": 58,
   "id": "7f0c6357-8ba0-4578-991a-7a3b8e74d546",
   "metadata": {},
   "outputs": [
    {
     "data": {
      "text/plain": [
       "Gender\n",
       "SEX_BTSX    9240\n",
       "SEX_MLE     9240\n",
       "SEX_FMLE    9240\n",
       "Name: count, dtype: int64"
      ]
     },
     "execution_count": 58,
     "metadata": {},
     "output_type": "execute_result"
    }
   ],
   "source": [
    "df_obesity.Gender.value_counts()"
   ]
  },
  {
   "cell_type": "code",
   "execution_count": 59,
   "id": "025b98bb-e6b5-41a9-bb11-f47cf45075cc",
   "metadata": {},
   "outputs": [],
   "source": [
    "df_obesity['Gender'] = df_obesity['Gender'].apply(lambda x: 'Male' if x == 'SEX_MLE' else\n",
    "                                                  'Female' if x == 'SEX_FMLE' else 'Both')"
   ]
  },
  {
   "cell_type": "code",
   "execution_count": 60,
   "id": "9eac496b-c5ac-4808-aa39-cbdda27c2a79",
   "metadata": {},
   "outputs": [
    {
     "data": {
      "text/plain": [
       "Gender\n",
       "Both      9240\n",
       "Male      9240\n",
       "Female    9240\n",
       "Name: count, dtype: int64"
      ]
     },
     "execution_count": 60,
     "metadata": {},
     "output_type": "execute_result"
    }
   ],
   "source": [
    "df_obesity.Gender.value_counts()"
   ]
  },
  {
   "cell_type": "code",
   "execution_count": 61,
   "id": "4b99ba01-e0ba-4ff6-96c8-20d9406a3a84",
   "metadata": {},
   "outputs": [
    {
     "data": {
      "text/html": [
       "<div>\n",
       "<style scoped>\n",
       "    .dataframe tbody tr th:only-of-type {\n",
       "        vertical-align: middle;\n",
       "    }\n",
       "\n",
       "    .dataframe tbody tr th {\n",
       "        vertical-align: top;\n",
       "    }\n",
       "\n",
       "    .dataframe thead th {\n",
       "        text-align: right;\n",
       "    }\n",
       "</style>\n",
       "<table border=\"1\" class=\"dataframe\">\n",
       "  <thead>\n",
       "    <tr style=\"text-align: right;\">\n",
       "      <th></th>\n",
       "      <th>Region</th>\n",
       "      <th>Gender</th>\n",
       "      <th>Year</th>\n",
       "      <th>LowerBound</th>\n",
       "      <th>UpperBound</th>\n",
       "      <th>Mean_Estimate</th>\n",
       "      <th>Country</th>\n",
       "      <th>age_group</th>\n",
       "      <th>CI_Width</th>\n",
       "      <th>Obesity_level</th>\n",
       "    </tr>\n",
       "  </thead>\n",
       "  <tbody>\n",
       "    <tr>\n",
       "      <th>0</th>\n",
       "      <td>Europe</td>\n",
       "      <td>Both</td>\n",
       "      <td>2018</td>\n",
       "      <td>23.92528</td>\n",
       "      <td>28.04794</td>\n",
       "      <td>25.94346</td>\n",
       "      <td>Moldova, Republic of</td>\n",
       "      <td>adult</td>\n",
       "      <td>4.12266</td>\n",
       "      <td>Moderate</td>\n",
       "    </tr>\n",
       "    <tr>\n",
       "      <th>5</th>\n",
       "      <td>Eastern Mediterranean</td>\n",
       "      <td>Male</td>\n",
       "      <td>2020</td>\n",
       "      <td>15.79378</td>\n",
       "      <td>19.24573</td>\n",
       "      <td>17.48764</td>\n",
       "      <td>Iran, Islamic Republic of</td>\n",
       "      <td>adult</td>\n",
       "      <td>3.45195</td>\n",
       "      <td>Low</td>\n",
       "    </tr>\n",
       "    <tr>\n",
       "      <th>12</th>\n",
       "      <td>Eastern Mediterranean</td>\n",
       "      <td>Male</td>\n",
       "      <td>2020</td>\n",
       "      <td>23.08959</td>\n",
       "      <td>33.81534</td>\n",
       "      <td>28.33553</td>\n",
       "      <td>Iraq</td>\n",
       "      <td>adult</td>\n",
       "      <td>10.72575</td>\n",
       "      <td>Moderate</td>\n",
       "    </tr>\n",
       "  </tbody>\n",
       "</table>\n",
       "</div>"
      ],
      "text/plain": [
       "                   Region Gender  Year  LowerBound  UpperBound  Mean_Estimate  \\\n",
       "0                  Europe   Both  2018    23.92528    28.04794       25.94346   \n",
       "5   Eastern Mediterranean   Male  2020    15.79378    19.24573       17.48764   \n",
       "12  Eastern Mediterranean   Male  2020    23.08959    33.81534       28.33553   \n",
       "\n",
       "                      Country age_group  CI_Width Obesity_level  \n",
       "0        Moldova, Republic of     adult   4.12266      Moderate  \n",
       "5   Iran, Islamic Republic of     adult   3.45195           Low  \n",
       "12                       Iraq     adult  10.72575      Moderate  "
      ]
     },
     "execution_count": 61,
     "metadata": {},
     "output_type": "execute_result"
    }
   ],
   "source": [
    "df_obesity.head(3)"
   ]
  },
  {
   "cell_type": "code",
   "execution_count": 62,
   "id": "c79853ed-ba62-4496-8a51-5bd427a3f269",
   "metadata": {},
   "outputs": [],
   "source": [
    "df_malnutrition['Gender'] = df_malnutrition['Gender'].apply(lambda x: 'Male' if x == 'SEX_MLE' else\n",
    "                                                            'Female' if x == 'SEX_FMLE' else 'Both')"
   ]
  },
  {
   "cell_type": "code",
   "execution_count": 63,
   "id": "71d3920f-a018-47a9-9f49-0fecb79fa52b",
   "metadata": {},
   "outputs": [
    {
     "data": {
      "text/plain": [
       "Gender\n",
       "Both      9240\n",
       "Female    9240\n",
       "Male      9240\n",
       "Name: count, dtype: int64"
      ]
     },
     "execution_count": 63,
     "metadata": {},
     "output_type": "execute_result"
    }
   ],
   "source": [
    "df_malnutrition.Gender.value_counts()"
   ]
  },
  {
   "cell_type": "code",
   "execution_count": 64,
   "id": "42c481b6-af68-45f4-ae37-71bf5e0e1b3a",
   "metadata": {},
   "outputs": [
    {
     "data": {
      "text/html": [
       "<div>\n",
       "<style scoped>\n",
       "    .dataframe tbody tr th:only-of-type {\n",
       "        vertical-align: middle;\n",
       "    }\n",
       "\n",
       "    .dataframe tbody tr th {\n",
       "        vertical-align: top;\n",
       "    }\n",
       "\n",
       "    .dataframe thead th {\n",
       "        text-align: right;\n",
       "    }\n",
       "</style>\n",
       "<table border=\"1\" class=\"dataframe\">\n",
       "  <thead>\n",
       "    <tr style=\"text-align: right;\">\n",
       "      <th></th>\n",
       "      <th>Region</th>\n",
       "      <th>Gender</th>\n",
       "      <th>Year</th>\n",
       "      <th>LowerBound</th>\n",
       "      <th>UpperBound</th>\n",
       "      <th>Mean_Estimate</th>\n",
       "      <th>Country</th>\n",
       "      <th>age_group</th>\n",
       "      <th>CI_Width</th>\n",
       "      <th>Malnutrition_Level</th>\n",
       "    </tr>\n",
       "  </thead>\n",
       "  <tbody>\n",
       "    <tr>\n",
       "      <th>1</th>\n",
       "      <td>Africa</td>\n",
       "      <td>Both</td>\n",
       "      <td>2020</td>\n",
       "      <td>9.70523</td>\n",
       "      <td>12.91453</td>\n",
       "      <td>11.27629</td>\n",
       "      <td>Uganda</td>\n",
       "      <td>adult</td>\n",
       "      <td>3.20930</td>\n",
       "      <td>Moderate</td>\n",
       "    </tr>\n",
       "    <tr>\n",
       "      <th>3</th>\n",
       "      <td>Africa</td>\n",
       "      <td>Female</td>\n",
       "      <td>2015</td>\n",
       "      <td>8.24333</td>\n",
       "      <td>12.07013</td>\n",
       "      <td>10.08010</td>\n",
       "      <td>Mali</td>\n",
       "      <td>adult</td>\n",
       "      <td>3.82680</td>\n",
       "      <td>Moderate</td>\n",
       "    </tr>\n",
       "    <tr>\n",
       "      <th>4</th>\n",
       "      <td>Africa</td>\n",
       "      <td>Female</td>\n",
       "      <td>2021</td>\n",
       "      <td>3.97204</td>\n",
       "      <td>8.07702</td>\n",
       "      <td>5.79511</td>\n",
       "      <td>Gabon</td>\n",
       "      <td>adult</td>\n",
       "      <td>4.10498</td>\n",
       "      <td>Low</td>\n",
       "    </tr>\n",
       "  </tbody>\n",
       "</table>\n",
       "</div>"
      ],
      "text/plain": [
       "   Region  Gender  Year  LowerBound  UpperBound  Mean_Estimate Country  \\\n",
       "1  Africa    Both  2020     9.70523    12.91453       11.27629  Uganda   \n",
       "3  Africa  Female  2015     8.24333    12.07013       10.08010    Mali   \n",
       "4  Africa  Female  2021     3.97204     8.07702        5.79511   Gabon   \n",
       "\n",
       "  age_group  CI_Width Malnutrition_Level  \n",
       "1     adult   3.20930           Moderate  \n",
       "3     adult   3.82680           Moderate  \n",
       "4     adult   4.10498                Low  "
      ]
     },
     "execution_count": 64,
     "metadata": {},
     "output_type": "execute_result"
    }
   ],
   "source": [
    "df_malnutrition.head(3)"
   ]
  },
  {
   "cell_type": "code",
   "execution_count": null,
   "id": "775ff38a-1d66-49d8-8584-5f475129fde4",
   "metadata": {},
   "outputs": [],
   "source": []
  }
 ],
 "metadata": {
  "kernelspec": {
   "display_name": "Python [conda env:base] *",
   "language": "python",
   "name": "conda-base-py"
  },
  "language_info": {
   "codemirror_mode": {
    "name": "ipython",
    "version": 3
   },
   "file_extension": ".py",
   "mimetype": "text/x-python",
   "name": "python",
   "nbconvert_exporter": "python",
   "pygments_lexer": "ipython3",
   "version": "3.12.7"
  }
 },
 "nbformat": 4,
 "nbformat_minor": 5
}
