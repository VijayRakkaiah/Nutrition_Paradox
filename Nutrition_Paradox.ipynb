{
 "cells": [
  {
   "cell_type": "markdown",
   "id": "3d4ab641-11d7-421d-982d-8afea2f978b3",
   "metadata": {},
   "source": [
    "### <span style=\"color:#2E6F40;\">**Importing the Dependencies**</span>"
   ]
  },
  {
   "cell_type": "code",
   "execution_count": 2,
   "id": "f597b8de-0151-41cb-acae-dc543790bca1",
   "metadata": {},
   "outputs": [],
   "source": [
    "import requests\n",
    "import pandas as pd"
   ]
  },
  {
   "cell_type": "markdown",
   "id": "44586647-98c4-400f-9b1d-f8493916698c",
   "metadata": {},
   "source": [
    "### <span style=\"color:#2E6F40;\">**📥 Data Collection**</span>\n",
    "We are going to collect data from **4 public WHO API endpoints**:\n",
    "\n",
    "1. **Obesity data for adults**  \n",
    "   ➤ URL: [`https://ghoapi.azureedge.net/api/NCD_BMI_30C`](https://ghoapi.azureedge.net/api/NCD_BMI_30C)\n",
    "\n",
    "2. **Obesity data for children**  \n",
    "   ➤ URL: [`https://ghoapi.azureedge.net/api/NCD_BMI_PLUS2C`](https://ghoapi.azureedge.net/api/NCD_BMI_PLUS2C)\n",
    "\n",
    "3. **Underweight data for adults**  \n",
    "   ➤ URL: [`https://ghoapi.azureedge.net/api/NCD_BMI_18C`](https://ghoapi.azureedge.net/api/NCD_BMI_18C)\n",
    "\n",
    "4. **Underweight data for children**  \n",
    "   ➤ URL: [`https://ghoapi.azureedge.net/api/NCD_BMI_MINUS2C`](https://ghoapi.azureedge.net/api/NCD_BMI_MINUS2C)"
   ]
  },
  {
   "cell_type": "markdown",
   "id": "1555a2f8-efec-45cb-9e31-8918a6148845",
   "metadata": {},
   "source": [
    "### <span style=\"color:#2E6F40;\">**Define function for converting API data into dataframe**</span>"
   ]
  },
  {
   "cell_type": "code",
   "execution_count": 5,
   "id": "ac4a8e49-09d1-4786-8783-bdc9bfb3c1f5",
   "metadata": {},
   "outputs": [],
   "source": [
    "def convert_dataframe(url):\n",
    "    result = requests.get(url)\n",
    "    data = result.json()\n",
    "    df = pd.DataFrame(data['value'])\n",
    "    return df"
   ]
  },
  {
   "cell_type": "markdown",
   "id": "74b064dc-166d-4d42-a409-fc3a7f3e3350",
   "metadata": {},
   "source": [
    "### <span style=\"color:#2E6F40;\">**1. Load all 4 datasets into dataframe**</span>"
   ]
  },
  {
   "cell_type": "markdown",
   "id": "28561de3-3052-4376-966d-848a9da89739",
   "metadata": {},
   "source": [
    "#### <span style=\"color:#4272FF;\">**1. Obesity data for adults**</span>"
   ]
  },
  {
   "cell_type": "code",
   "execution_count": 8,
   "id": "de528787-05e0-4ce1-bed4-8769fa25feef",
   "metadata": {},
   "outputs": [
    {
     "data": {
      "text/html": [
       "<div>\n",
       "<style scoped>\n",
       "    .dataframe tbody tr th:only-of-type {\n",
       "        vertical-align: middle;\n",
       "    }\n",
       "\n",
       "    .dataframe tbody tr th {\n",
       "        vertical-align: top;\n",
       "    }\n",
       "\n",
       "    .dataframe thead th {\n",
       "        text-align: right;\n",
       "    }\n",
       "</style>\n",
       "<table border=\"1\" class=\"dataframe\">\n",
       "  <thead>\n",
       "    <tr style=\"text-align: right;\">\n",
       "      <th></th>\n",
       "      <th>Id</th>\n",
       "      <th>IndicatorCode</th>\n",
       "      <th>SpatialDimType</th>\n",
       "      <th>SpatialDim</th>\n",
       "      <th>TimeDimType</th>\n",
       "      <th>ParentLocationCode</th>\n",
       "      <th>ParentLocation</th>\n",
       "      <th>Dim1Type</th>\n",
       "      <th>TimeDim</th>\n",
       "      <th>Dim1</th>\n",
       "      <th>...</th>\n",
       "      <th>DataSourceDim</th>\n",
       "      <th>Value</th>\n",
       "      <th>NumericValue</th>\n",
       "      <th>Low</th>\n",
       "      <th>High</th>\n",
       "      <th>Comments</th>\n",
       "      <th>Date</th>\n",
       "      <th>TimeDimensionValue</th>\n",
       "      <th>TimeDimensionBegin</th>\n",
       "      <th>TimeDimensionEnd</th>\n",
       "    </tr>\n",
       "  </thead>\n",
       "  <tbody>\n",
       "    <tr>\n",
       "      <th>0</th>\n",
       "      <td>5540695</td>\n",
       "      <td>NCD_BMI_30C</td>\n",
       "      <td>COUNTRY</td>\n",
       "      <td>MDA</td>\n",
       "      <td>YEAR</td>\n",
       "      <td>EUR</td>\n",
       "      <td>Europe</td>\n",
       "      <td>SEX</td>\n",
       "      <td>2018</td>\n",
       "      <td>SEX_BTSX</td>\n",
       "      <td>...</td>\n",
       "      <td>None</td>\n",
       "      <td>25.9 [23.9-28.0]</td>\n",
       "      <td>25.94346</td>\n",
       "      <td>23.92528</td>\n",
       "      <td>28.04794</td>\n",
       "      <td>None</td>\n",
       "      <td>2024-02-29T16:06:41.017+01:00</td>\n",
       "      <td>2018</td>\n",
       "      <td>2018-01-01T00:00:00+01:00</td>\n",
       "      <td>2018-12-31T00:00:00+01:00</td>\n",
       "    </tr>\n",
       "    <tr>\n",
       "      <th>1</th>\n",
       "      <td>5541156</td>\n",
       "      <td>NCD_BMI_30C</td>\n",
       "      <td>COUNTRY</td>\n",
       "      <td>IRL</td>\n",
       "      <td>YEAR</td>\n",
       "      <td>EUR</td>\n",
       "      <td>Europe</td>\n",
       "      <td>SEX</td>\n",
       "      <td>1995</td>\n",
       "      <td>SEX_MLE</td>\n",
       "      <td>...</td>\n",
       "      <td>None</td>\n",
       "      <td>16.3 [13.6-19.2]</td>\n",
       "      <td>16.26016</td>\n",
       "      <td>13.62936</td>\n",
       "      <td>19.19998</td>\n",
       "      <td>None</td>\n",
       "      <td>2024-02-29T16:06:41.017+01:00</td>\n",
       "      <td>1995</td>\n",
       "      <td>1995-01-01T00:00:00+01:00</td>\n",
       "      <td>1995-12-31T00:00:00+01:00</td>\n",
       "    </tr>\n",
       "  </tbody>\n",
       "</table>\n",
       "<p>2 rows × 25 columns</p>\n",
       "</div>"
      ],
      "text/plain": [
       "        Id IndicatorCode SpatialDimType SpatialDim TimeDimType  \\\n",
       "0  5540695   NCD_BMI_30C        COUNTRY        MDA        YEAR   \n",
       "1  5541156   NCD_BMI_30C        COUNTRY        IRL        YEAR   \n",
       "\n",
       "  ParentLocationCode ParentLocation Dim1Type  TimeDim      Dim1  ...  \\\n",
       "0                EUR         Europe      SEX     2018  SEX_BTSX  ...   \n",
       "1                EUR         Europe      SEX     1995   SEX_MLE  ...   \n",
       "\n",
       "  DataSourceDim             Value NumericValue       Low      High Comments  \\\n",
       "0          None  25.9 [23.9-28.0]     25.94346  23.92528  28.04794     None   \n",
       "1          None  16.3 [13.6-19.2]     16.26016  13.62936  19.19998     None   \n",
       "\n",
       "                            Date  TimeDimensionValue  \\\n",
       "0  2024-02-29T16:06:41.017+01:00                2018   \n",
       "1  2024-02-29T16:06:41.017+01:00                1995   \n",
       "\n",
       "          TimeDimensionBegin           TimeDimensionEnd  \n",
       "0  2018-01-01T00:00:00+01:00  2018-12-31T00:00:00+01:00  \n",
       "1  1995-01-01T00:00:00+01:00  1995-12-31T00:00:00+01:00  \n",
       "\n",
       "[2 rows x 25 columns]"
      ]
     },
     "execution_count": 8,
     "metadata": {},
     "output_type": "execute_result"
    }
   ],
   "source": [
    "url = \"https://ghoapi.azureedge.net/api/NCD_BMI_30C\"\n",
    "obesity_adults = convert_dataframe(url)\n",
    "obesity_adults.head(2)"
   ]
  },
  {
   "cell_type": "markdown",
   "id": "071370b9-2aca-4e10-af62-6acb5c2d89e2",
   "metadata": {},
   "source": [
    "#### <span style=\"color:#4272FF;\">**2. Obesity data for children**</span>"
   ]
  },
  {
   "cell_type": "code",
   "execution_count": 10,
   "id": "c404ae2a-051f-4314-8909-d81dc2522505",
   "metadata": {},
   "outputs": [
    {
     "data": {
      "text/html": [
       "<div>\n",
       "<style scoped>\n",
       "    .dataframe tbody tr th:only-of-type {\n",
       "        vertical-align: middle;\n",
       "    }\n",
       "\n",
       "    .dataframe tbody tr th {\n",
       "        vertical-align: top;\n",
       "    }\n",
       "\n",
       "    .dataframe thead th {\n",
       "        text-align: right;\n",
       "    }\n",
       "</style>\n",
       "<table border=\"1\" class=\"dataframe\">\n",
       "  <thead>\n",
       "    <tr style=\"text-align: right;\">\n",
       "      <th></th>\n",
       "      <th>Id</th>\n",
       "      <th>IndicatorCode</th>\n",
       "      <th>SpatialDimType</th>\n",
       "      <th>SpatialDim</th>\n",
       "      <th>TimeDimType</th>\n",
       "      <th>ParentLocationCode</th>\n",
       "      <th>ParentLocation</th>\n",
       "      <th>Dim1Type</th>\n",
       "      <th>TimeDim</th>\n",
       "      <th>Dim1</th>\n",
       "      <th>...</th>\n",
       "      <th>DataSourceDim</th>\n",
       "      <th>Value</th>\n",
       "      <th>NumericValue</th>\n",
       "      <th>Low</th>\n",
       "      <th>High</th>\n",
       "      <th>Comments</th>\n",
       "      <th>Date</th>\n",
       "      <th>TimeDimensionValue</th>\n",
       "      <th>TimeDimensionBegin</th>\n",
       "      <th>TimeDimensionEnd</th>\n",
       "    </tr>\n",
       "  </thead>\n",
       "  <tbody>\n",
       "    <tr>\n",
       "      <th>0</th>\n",
       "      <td>5540919</td>\n",
       "      <td>NCD_BMI_PLUS2C</td>\n",
       "      <td>COUNTRY</td>\n",
       "      <td>CUB</td>\n",
       "      <td>YEAR</td>\n",
       "      <td>AMR</td>\n",
       "      <td>Americas</td>\n",
       "      <td>SEX</td>\n",
       "      <td>2021</td>\n",
       "      <td>SEX_MLE</td>\n",
       "      <td>...</td>\n",
       "      <td>None</td>\n",
       "      <td>12.5 [8.5-17.2]</td>\n",
       "      <td>12.52724</td>\n",
       "      <td>8.46905</td>\n",
       "      <td>17.19727</td>\n",
       "      <td>None</td>\n",
       "      <td>2024-02-29T16:06:41.017+01:00</td>\n",
       "      <td>2021</td>\n",
       "      <td>2021-01-01T00:00:00+01:00</td>\n",
       "      <td>2021-12-31T00:00:00+01:00</td>\n",
       "    </tr>\n",
       "    <tr>\n",
       "      <th>1</th>\n",
       "      <td>5540986</td>\n",
       "      <td>NCD_BMI_PLUS2C</td>\n",
       "      <td>COUNTRY</td>\n",
       "      <td>PNG</td>\n",
       "      <td>YEAR</td>\n",
       "      <td>WPR</td>\n",
       "      <td>Western Pacific</td>\n",
       "      <td>SEX</td>\n",
       "      <td>2000</td>\n",
       "      <td>SEX_MLE</td>\n",
       "      <td>...</td>\n",
       "      <td>None</td>\n",
       "      <td>8.0 [1.7-19.8]</td>\n",
       "      <td>8.01665</td>\n",
       "      <td>1.68665</td>\n",
       "      <td>19.76374</td>\n",
       "      <td>None</td>\n",
       "      <td>2024-02-29T16:06:41.017+01:00</td>\n",
       "      <td>2000</td>\n",
       "      <td>2000-01-01T00:00:00+01:00</td>\n",
       "      <td>2000-12-31T00:00:00+01:00</td>\n",
       "    </tr>\n",
       "  </tbody>\n",
       "</table>\n",
       "<p>2 rows × 25 columns</p>\n",
       "</div>"
      ],
      "text/plain": [
       "        Id   IndicatorCode SpatialDimType SpatialDim TimeDimType  \\\n",
       "0  5540919  NCD_BMI_PLUS2C        COUNTRY        CUB        YEAR   \n",
       "1  5540986  NCD_BMI_PLUS2C        COUNTRY        PNG        YEAR   \n",
       "\n",
       "  ParentLocationCode   ParentLocation Dim1Type  TimeDim     Dim1  ...  \\\n",
       "0                AMR         Americas      SEX     2021  SEX_MLE  ...   \n",
       "1                WPR  Western Pacific      SEX     2000  SEX_MLE  ...   \n",
       "\n",
       "  DataSourceDim            Value NumericValue      Low      High Comments  \\\n",
       "0          None  12.5 [8.5-17.2]     12.52724  8.46905  17.19727     None   \n",
       "1          None   8.0 [1.7-19.8]      8.01665  1.68665  19.76374     None   \n",
       "\n",
       "                            Date  TimeDimensionValue  \\\n",
       "0  2024-02-29T16:06:41.017+01:00                2021   \n",
       "1  2024-02-29T16:06:41.017+01:00                2000   \n",
       "\n",
       "          TimeDimensionBegin           TimeDimensionEnd  \n",
       "0  2021-01-01T00:00:00+01:00  2021-12-31T00:00:00+01:00  \n",
       "1  2000-01-01T00:00:00+01:00  2000-12-31T00:00:00+01:00  \n",
       "\n",
       "[2 rows x 25 columns]"
      ]
     },
     "execution_count": 10,
     "metadata": {},
     "output_type": "execute_result"
    }
   ],
   "source": [
    "url = \"https://ghoapi.azureedge.net/api/NCD_BMI_PLUS2C\"\n",
    "obesity_children = convert_dataframe(url)\n",
    "obesity_children.head(2)"
   ]
  },
  {
   "cell_type": "markdown",
   "id": "25ff6a0b-ea62-480b-a1b3-62a56f280527",
   "metadata": {},
   "source": [
    "#### <span style=\"color:#4272FF;\">**3. Underweight data for adults**</span>"
   ]
  },
  {
   "cell_type": "code",
   "execution_count": 12,
   "id": "26474fd3-536d-4674-b2c2-9fff3b8e5384",
   "metadata": {},
   "outputs": [
    {
     "data": {
      "text/html": [
       "<div>\n",
       "<style scoped>\n",
       "    .dataframe tbody tr th:only-of-type {\n",
       "        vertical-align: middle;\n",
       "    }\n",
       "\n",
       "    .dataframe tbody tr th {\n",
       "        vertical-align: top;\n",
       "    }\n",
       "\n",
       "    .dataframe thead th {\n",
       "        text-align: right;\n",
       "    }\n",
       "</style>\n",
       "<table border=\"1\" class=\"dataframe\">\n",
       "  <thead>\n",
       "    <tr style=\"text-align: right;\">\n",
       "      <th></th>\n",
       "      <th>Id</th>\n",
       "      <th>IndicatorCode</th>\n",
       "      <th>SpatialDimType</th>\n",
       "      <th>SpatialDim</th>\n",
       "      <th>ParentLocationCode</th>\n",
       "      <th>TimeDimType</th>\n",
       "      <th>ParentLocation</th>\n",
       "      <th>Dim1Type</th>\n",
       "      <th>TimeDim</th>\n",
       "      <th>Dim1</th>\n",
       "      <th>...</th>\n",
       "      <th>DataSourceDim</th>\n",
       "      <th>Value</th>\n",
       "      <th>NumericValue</th>\n",
       "      <th>Low</th>\n",
       "      <th>High</th>\n",
       "      <th>Comments</th>\n",
       "      <th>Date</th>\n",
       "      <th>TimeDimensionValue</th>\n",
       "      <th>TimeDimensionBegin</th>\n",
       "      <th>TimeDimensionEnd</th>\n",
       "    </tr>\n",
       "  </thead>\n",
       "  <tbody>\n",
       "    <tr>\n",
       "      <th>0</th>\n",
       "      <td>5540762</td>\n",
       "      <td>NCD_BMI_18C</td>\n",
       "      <td>COUNTRY</td>\n",
       "      <td>PER</td>\n",
       "      <td>AMR</td>\n",
       "      <td>YEAR</td>\n",
       "      <td>Americas</td>\n",
       "      <td>SEX</td>\n",
       "      <td>2011</td>\n",
       "      <td>SEX_FMLE</td>\n",
       "      <td>...</td>\n",
       "      <td>None</td>\n",
       "      <td>1.6 [1.4-1.8]</td>\n",
       "      <td>1.63089</td>\n",
       "      <td>1.43569</td>\n",
       "      <td>1.83620</td>\n",
       "      <td>None</td>\n",
       "      <td>2024-02-29T16:06:41.017+01:00</td>\n",
       "      <td>2011</td>\n",
       "      <td>2011-01-01T00:00:00+01:00</td>\n",
       "      <td>2011-12-31T00:00:00+01:00</td>\n",
       "    </tr>\n",
       "    <tr>\n",
       "      <th>1</th>\n",
       "      <td>5541121</td>\n",
       "      <td>NCD_BMI_18C</td>\n",
       "      <td>COUNTRY</td>\n",
       "      <td>UGA</td>\n",
       "      <td>AFR</td>\n",
       "      <td>YEAR</td>\n",
       "      <td>Africa</td>\n",
       "      <td>SEX</td>\n",
       "      <td>2020</td>\n",
       "      <td>SEX_BTSX</td>\n",
       "      <td>...</td>\n",
       "      <td>None</td>\n",
       "      <td>11.3 [9.7-12.9]</td>\n",
       "      <td>11.27629</td>\n",
       "      <td>9.70523</td>\n",
       "      <td>12.91453</td>\n",
       "      <td>None</td>\n",
       "      <td>2024-02-29T16:06:41.017+01:00</td>\n",
       "      <td>2020</td>\n",
       "      <td>2020-01-01T00:00:00+01:00</td>\n",
       "      <td>2020-12-31T00:00:00+01:00</td>\n",
       "    </tr>\n",
       "  </tbody>\n",
       "</table>\n",
       "<p>2 rows × 25 columns</p>\n",
       "</div>"
      ],
      "text/plain": [
       "        Id IndicatorCode SpatialDimType SpatialDim ParentLocationCode  \\\n",
       "0  5540762   NCD_BMI_18C        COUNTRY        PER                AMR   \n",
       "1  5541121   NCD_BMI_18C        COUNTRY        UGA                AFR   \n",
       "\n",
       "  TimeDimType ParentLocation Dim1Type  TimeDim      Dim1  ... DataSourceDim  \\\n",
       "0        YEAR       Americas      SEX     2011  SEX_FMLE  ...          None   \n",
       "1        YEAR         Africa      SEX     2020  SEX_BTSX  ...          None   \n",
       "\n",
       "             Value NumericValue      Low      High Comments  \\\n",
       "0    1.6 [1.4-1.8]      1.63089  1.43569   1.83620     None   \n",
       "1  11.3 [9.7-12.9]     11.27629  9.70523  12.91453     None   \n",
       "\n",
       "                            Date  TimeDimensionValue  \\\n",
       "0  2024-02-29T16:06:41.017+01:00                2011   \n",
       "1  2024-02-29T16:06:41.017+01:00                2020   \n",
       "\n",
       "          TimeDimensionBegin           TimeDimensionEnd  \n",
       "0  2011-01-01T00:00:00+01:00  2011-12-31T00:00:00+01:00  \n",
       "1  2020-01-01T00:00:00+01:00  2020-12-31T00:00:00+01:00  \n",
       "\n",
       "[2 rows x 25 columns]"
      ]
     },
     "execution_count": 12,
     "metadata": {},
     "output_type": "execute_result"
    }
   ],
   "source": [
    "url = \"https://ghoapi.azureedge.net/api/NCD_BMI_18C\"\n",
    "underweight_adults = convert_dataframe(url)\n",
    "underweight_adults.head(2)"
   ]
  },
  {
   "cell_type": "markdown",
   "id": "3a3a472a-2c91-44c6-9fc6-670680541217",
   "metadata": {},
   "source": [
    "#### <span style=\"color:#4272FF;\">**4. Underweight data for children**</span>"
   ]
  },
  {
   "cell_type": "code",
   "execution_count": 14,
   "id": "a1640ade-d6dd-43dd-994a-ca6cad0e5a1c",
   "metadata": {},
   "outputs": [
    {
     "data": {
      "text/html": [
       "<div>\n",
       "<style scoped>\n",
       "    .dataframe tbody tr th:only-of-type {\n",
       "        vertical-align: middle;\n",
       "    }\n",
       "\n",
       "    .dataframe tbody tr th {\n",
       "        vertical-align: top;\n",
       "    }\n",
       "\n",
       "    .dataframe thead th {\n",
       "        text-align: right;\n",
       "    }\n",
       "</style>\n",
       "<table border=\"1\" class=\"dataframe\">\n",
       "  <thead>\n",
       "    <tr style=\"text-align: right;\">\n",
       "      <th></th>\n",
       "      <th>Id</th>\n",
       "      <th>IndicatorCode</th>\n",
       "      <th>SpatialDimType</th>\n",
       "      <th>SpatialDim</th>\n",
       "      <th>ParentLocationCode</th>\n",
       "      <th>TimeDimType</th>\n",
       "      <th>ParentLocation</th>\n",
       "      <th>Dim1Type</th>\n",
       "      <th>Dim1</th>\n",
       "      <th>TimeDim</th>\n",
       "      <th>...</th>\n",
       "      <th>DataSourceDim</th>\n",
       "      <th>Value</th>\n",
       "      <th>NumericValue</th>\n",
       "      <th>Low</th>\n",
       "      <th>High</th>\n",
       "      <th>Comments</th>\n",
       "      <th>Date</th>\n",
       "      <th>TimeDimensionValue</th>\n",
       "      <th>TimeDimensionBegin</th>\n",
       "      <th>TimeDimensionEnd</th>\n",
       "    </tr>\n",
       "  </thead>\n",
       "  <tbody>\n",
       "    <tr>\n",
       "      <th>0</th>\n",
       "      <td>5540609</td>\n",
       "      <td>NCD_BMI_MINUS2C</td>\n",
       "      <td>COUNTRY</td>\n",
       "      <td>IRL</td>\n",
       "      <td>EUR</td>\n",
       "      <td>YEAR</td>\n",
       "      <td>Europe</td>\n",
       "      <td>SEX</td>\n",
       "      <td>SEX_FMLE</td>\n",
       "      <td>1998</td>\n",
       "      <td>...</td>\n",
       "      <td>None</td>\n",
       "      <td>0.8 [0.4-1.4]</td>\n",
       "      <td>0.83126</td>\n",
       "      <td>0.41813</td>\n",
       "      <td>1.43478</td>\n",
       "      <td>None</td>\n",
       "      <td>2024-02-29T16:06:41.017+01:00</td>\n",
       "      <td>1998</td>\n",
       "      <td>1998-01-01T00:00:00+01:00</td>\n",
       "      <td>1998-12-31T00:00:00+01:00</td>\n",
       "    </tr>\n",
       "    <tr>\n",
       "      <th>1</th>\n",
       "      <td>5540614</td>\n",
       "      <td>NCD_BMI_MINUS2C</td>\n",
       "      <td>COUNTRY</td>\n",
       "      <td>RUS</td>\n",
       "      <td>EUR</td>\n",
       "      <td>YEAR</td>\n",
       "      <td>Europe</td>\n",
       "      <td>SEX</td>\n",
       "      <td>SEX_FMLE</td>\n",
       "      <td>2010</td>\n",
       "      <td>...</td>\n",
       "      <td>None</td>\n",
       "      <td>3.4 [2.6-4.3]</td>\n",
       "      <td>3.40803</td>\n",
       "      <td>2.61038</td>\n",
       "      <td>4.28252</td>\n",
       "      <td>None</td>\n",
       "      <td>2024-02-29T16:06:41.017+01:00</td>\n",
       "      <td>2010</td>\n",
       "      <td>2010-01-01T00:00:00+01:00</td>\n",
       "      <td>2010-12-31T00:00:00+01:00</td>\n",
       "    </tr>\n",
       "  </tbody>\n",
       "</table>\n",
       "<p>2 rows × 25 columns</p>\n",
       "</div>"
      ],
      "text/plain": [
       "        Id    IndicatorCode SpatialDimType SpatialDim ParentLocationCode  \\\n",
       "0  5540609  NCD_BMI_MINUS2C        COUNTRY        IRL                EUR   \n",
       "1  5540614  NCD_BMI_MINUS2C        COUNTRY        RUS                EUR   \n",
       "\n",
       "  TimeDimType ParentLocation Dim1Type      Dim1  TimeDim  ... DataSourceDim  \\\n",
       "0        YEAR         Europe      SEX  SEX_FMLE     1998  ...          None   \n",
       "1        YEAR         Europe      SEX  SEX_FMLE     2010  ...          None   \n",
       "\n",
       "           Value NumericValue      Low     High Comments  \\\n",
       "0  0.8 [0.4-1.4]      0.83126  0.41813  1.43478     None   \n",
       "1  3.4 [2.6-4.3]      3.40803  2.61038  4.28252     None   \n",
       "\n",
       "                            Date  TimeDimensionValue  \\\n",
       "0  2024-02-29T16:06:41.017+01:00                1998   \n",
       "1  2024-02-29T16:06:41.017+01:00                2010   \n",
       "\n",
       "          TimeDimensionBegin           TimeDimensionEnd  \n",
       "0  1998-01-01T00:00:00+01:00  1998-12-31T00:00:00+01:00  \n",
       "1  2010-01-01T00:00:00+01:00  2010-12-31T00:00:00+01:00  \n",
       "\n",
       "[2 rows x 25 columns]"
      ]
     },
     "execution_count": 14,
     "metadata": {},
     "output_type": "execute_result"
    }
   ],
   "source": [
    "url = \"https://ghoapi.azureedge.net/api/NCD_BMI_MINUS2C\"\n",
    "underweight_children = convert_dataframe(url)\n",
    "underweight_children.head(2)"
   ]
  },
  {
   "cell_type": "markdown",
   "id": "db2926c4-093f-4547-924f-5255ae5b8372",
   "metadata": {},
   "source": [
    "### <span style=\"color:#2E6F40;\">**🔄 Preprocessing Steps**</span>"
   ]
  },
  {
   "cell_type": "markdown",
   "id": "c73e4796-f7b7-4738-94a3-7cc6e7c38b2a",
   "metadata": {},
   "source": [
    "#### <span style=\"color:#4272FF;\">**2. Add a new column <u>*age_group*</u> to distinguish adults and children**</span>"
   ]
  },
  {
   "cell_type": "code",
   "execution_count": 17,
   "id": "5dae8086-5ea2-4670-bf39-9fe0b5fb61df",
   "metadata": {},
   "outputs": [],
   "source": [
    "obesity_adults['age_group'] = 'adult'\n",
    "obesity_children['age_group'] = 'children'\n",
    "underweight_adults['age_group'] = 'adult'\n",
    "underweight_children['age_group'] = 'children'"
   ]
  },
  {
   "cell_type": "code",
   "execution_count": 18,
   "id": "61eed88e-1c0d-4901-9b3e-d6a1527e0d94",
   "metadata": {},
   "outputs": [
    {
     "name": "stdout",
     "output_type": "stream",
     "text": [
      "Index(['Id', 'IndicatorCode', 'SpatialDimType', 'SpatialDim', 'TimeDimType',\n",
      "       'ParentLocationCode', 'ParentLocation', 'Dim1Type', 'TimeDim', 'Dim1',\n",
      "       'Dim2Type', 'Dim2', 'Dim3Type', 'Dim3', 'DataSourceDimType',\n",
      "       'DataSourceDim', 'Value', 'NumericValue', 'Low', 'High', 'Comments',\n",
      "       'Date', 'TimeDimensionValue', 'TimeDimensionBegin', 'TimeDimensionEnd',\n",
      "       'age_group'],\n",
      "      dtype='object')\n"
     ]
    },
    {
     "data": {
      "text/html": [
       "<div>\n",
       "<style scoped>\n",
       "    .dataframe tbody tr th:only-of-type {\n",
       "        vertical-align: middle;\n",
       "    }\n",
       "\n",
       "    .dataframe tbody tr th {\n",
       "        vertical-align: top;\n",
       "    }\n",
       "\n",
       "    .dataframe thead th {\n",
       "        text-align: right;\n",
       "    }\n",
       "</style>\n",
       "<table border=\"1\" class=\"dataframe\">\n",
       "  <thead>\n",
       "    <tr style=\"text-align: right;\">\n",
       "      <th></th>\n",
       "      <th>Id</th>\n",
       "      <th>IndicatorCode</th>\n",
       "      <th>SpatialDimType</th>\n",
       "      <th>SpatialDim</th>\n",
       "      <th>TimeDimType</th>\n",
       "      <th>ParentLocationCode</th>\n",
       "      <th>ParentLocation</th>\n",
       "      <th>Dim1Type</th>\n",
       "      <th>TimeDim</th>\n",
       "      <th>Dim1</th>\n",
       "      <th>...</th>\n",
       "      <th>Value</th>\n",
       "      <th>NumericValue</th>\n",
       "      <th>Low</th>\n",
       "      <th>High</th>\n",
       "      <th>Comments</th>\n",
       "      <th>Date</th>\n",
       "      <th>TimeDimensionValue</th>\n",
       "      <th>TimeDimensionBegin</th>\n",
       "      <th>TimeDimensionEnd</th>\n",
       "      <th>age_group</th>\n",
       "    </tr>\n",
       "  </thead>\n",
       "  <tbody>\n",
       "    <tr>\n",
       "      <th>0</th>\n",
       "      <td>5540695</td>\n",
       "      <td>NCD_BMI_30C</td>\n",
       "      <td>COUNTRY</td>\n",
       "      <td>MDA</td>\n",
       "      <td>YEAR</td>\n",
       "      <td>EUR</td>\n",
       "      <td>Europe</td>\n",
       "      <td>SEX</td>\n",
       "      <td>2018</td>\n",
       "      <td>SEX_BTSX</td>\n",
       "      <td>...</td>\n",
       "      <td>25.9 [23.9-28.0]</td>\n",
       "      <td>25.94346</td>\n",
       "      <td>23.92528</td>\n",
       "      <td>28.04794</td>\n",
       "      <td>None</td>\n",
       "      <td>2024-02-29T16:06:41.017+01:00</td>\n",
       "      <td>2018</td>\n",
       "      <td>2018-01-01T00:00:00+01:00</td>\n",
       "      <td>2018-12-31T00:00:00+01:00</td>\n",
       "      <td>adult</td>\n",
       "    </tr>\n",
       "    <tr>\n",
       "      <th>1</th>\n",
       "      <td>5541156</td>\n",
       "      <td>NCD_BMI_30C</td>\n",
       "      <td>COUNTRY</td>\n",
       "      <td>IRL</td>\n",
       "      <td>YEAR</td>\n",
       "      <td>EUR</td>\n",
       "      <td>Europe</td>\n",
       "      <td>SEX</td>\n",
       "      <td>1995</td>\n",
       "      <td>SEX_MLE</td>\n",
       "      <td>...</td>\n",
       "      <td>16.3 [13.6-19.2]</td>\n",
       "      <td>16.26016</td>\n",
       "      <td>13.62936</td>\n",
       "      <td>19.19998</td>\n",
       "      <td>None</td>\n",
       "      <td>2024-02-29T16:06:41.017+01:00</td>\n",
       "      <td>1995</td>\n",
       "      <td>1995-01-01T00:00:00+01:00</td>\n",
       "      <td>1995-12-31T00:00:00+01:00</td>\n",
       "      <td>adult</td>\n",
       "    </tr>\n",
       "  </tbody>\n",
       "</table>\n",
       "<p>2 rows × 26 columns</p>\n",
       "</div>"
      ],
      "text/plain": [
       "        Id IndicatorCode SpatialDimType SpatialDim TimeDimType  \\\n",
       "0  5540695   NCD_BMI_30C        COUNTRY        MDA        YEAR   \n",
       "1  5541156   NCD_BMI_30C        COUNTRY        IRL        YEAR   \n",
       "\n",
       "  ParentLocationCode ParentLocation Dim1Type  TimeDim      Dim1  ...  \\\n",
       "0                EUR         Europe      SEX     2018  SEX_BTSX  ...   \n",
       "1                EUR         Europe      SEX     1995   SEX_MLE  ...   \n",
       "\n",
       "              Value NumericValue       Low      High Comments  \\\n",
       "0  25.9 [23.9-28.0]     25.94346  23.92528  28.04794     None   \n",
       "1  16.3 [13.6-19.2]     16.26016  13.62936  19.19998     None   \n",
       "\n",
       "                            Date TimeDimensionValue  \\\n",
       "0  2024-02-29T16:06:41.017+01:00               2018   \n",
       "1  2024-02-29T16:06:41.017+01:00               1995   \n",
       "\n",
       "          TimeDimensionBegin           TimeDimensionEnd  age_group  \n",
       "0  2018-01-01T00:00:00+01:00  2018-12-31T00:00:00+01:00      adult  \n",
       "1  1995-01-01T00:00:00+01:00  1995-12-31T00:00:00+01:00      adult  \n",
       "\n",
       "[2 rows x 26 columns]"
      ]
     },
     "execution_count": 18,
     "metadata": {},
     "output_type": "execute_result"
    }
   ],
   "source": [
    "# verify one df\n",
    "print(obesity_adults.columns)\n",
    "obesity_adults.head(2)"
   ]
  },
  {
   "cell_type": "markdown",
   "id": "ec464024-dabb-4a2d-a47b-86e227e064c8",
   "metadata": {},
   "source": [
    "#### <span style=\"color:#4272FF;\">**3. Combine the two obesity datasets into one dataframe called <u>*df_obesity*</u>**</span>"
   ]
  },
  {
   "cell_type": "code",
   "execution_count": 20,
   "id": "e7b88eeb-ecda-4eb4-a296-b85bf220ed7e",
   "metadata": {},
   "outputs": [
    {
     "name": "stdout",
     "output_type": "stream",
     "text": [
      "(20790, 26)\n",
      "(62370, 26)\n"
     ]
    }
   ],
   "source": [
    "print(obesity_adults.shape)\n",
    "print(obesity_children.shape)"
   ]
  },
  {
   "cell_type": "code",
   "execution_count": 21,
   "id": "a8eb131e-6661-4bbf-868b-7d6eca6d0489",
   "metadata": {},
   "outputs": [],
   "source": [
    "# concat two dataframe\n",
    "df_obesity = pd.concat([obesity_adults, obesity_children], ignore_index=True, sort=False)"
   ]
  },
  {
   "cell_type": "code",
   "execution_count": 22,
   "id": "498554bc-3498-42f2-a89e-2d9f4afae7b4",
   "metadata": {},
   "outputs": [
    {
     "data": {
      "text/plain": [
       "(83160, 26)"
      ]
     },
     "execution_count": 22,
     "metadata": {},
     "output_type": "execute_result"
    }
   ],
   "source": [
    "df_obesity.shape"
   ]
  },
  {
   "cell_type": "code",
   "execution_count": 23,
   "id": "cbe97062-d996-4ab8-829f-bf63f8af3254",
   "metadata": {},
   "outputs": [
    {
     "data": {
      "text/plain": [
       "age_group\n",
       "children    62370\n",
       "adult       20790\n",
       "Name: count, dtype: int64"
      ]
     },
     "execution_count": 23,
     "metadata": {},
     "output_type": "execute_result"
    }
   ],
   "source": [
    "df_obesity['age_group'].value_counts()"
   ]
  },
  {
   "cell_type": "markdown",
   "id": "7d8be7e1-ab85-41de-bae3-12ec7e48d941",
   "metadata": {},
   "source": [
    "#### <span style=\"color:#4272FF;\">**4. Combine the two malnutrition datasets into one dataframe called <u>*df_malnutrition*</u>**</span>"
   ]
  },
  {
   "cell_type": "code",
   "execution_count": 25,
   "id": "8cd7b513-4eb8-4701-a5eb-8955f274e7ac",
   "metadata": {},
   "outputs": [
    {
     "name": "stdout",
     "output_type": "stream",
     "text": [
      "(20790, 26)\n",
      "(62370, 26)\n"
     ]
    }
   ],
   "source": [
    "print(underweight_adults.shape)\n",
    "print(underweight_children.shape)"
   ]
  },
  {
   "cell_type": "code",
   "execution_count": 26,
   "id": "3fb0a766-fa26-424e-8c36-319da7cc716d",
   "metadata": {},
   "outputs": [],
   "source": [
    "# concat two dataframe\n",
    "df_malnutrition = pd.concat([underweight_adults, underweight_children], ignore_index=True, sort=False)"
   ]
  },
  {
   "cell_type": "code",
   "execution_count": 27,
   "id": "39ba9c60-d6ba-49ca-ba71-39d15431e864",
   "metadata": {},
   "outputs": [
    {
     "data": {
      "text/plain": [
       "(83160, 26)"
      ]
     },
     "execution_count": 27,
     "metadata": {},
     "output_type": "execute_result"
    }
   ],
   "source": [
    "df_malnutrition.shape"
   ]
  },
  {
   "cell_type": "code",
   "execution_count": 28,
   "id": "b17a54ba-f4f9-4ce8-829c-ba6db4f340d7",
   "metadata": {},
   "outputs": [
    {
     "data": {
      "text/plain": [
       "age_group\n",
       "children    62370\n",
       "adult       20790\n",
       "Name: count, dtype: int64"
      ]
     },
     "execution_count": 28,
     "metadata": {},
     "output_type": "execute_result"
    }
   ],
   "source": [
    "df_malnutrition['age_group'].value_counts()"
   ]
  },
  {
   "cell_type": "markdown",
   "id": "f7097289-b988-4eac-92d8-9429e63b383a",
   "metadata": {},
   "source": [
    "#### <span style=\"color:#4272FF;\">**5. Filter each dataset to include only records from the years <u>*2012 to 2022*</u>**</span>"
   ]
  },
  {
   "cell_type": "code",
   "execution_count": 30,
   "id": "a8391db6-c24d-47c1-b6d0-1b4e5e7a1a8e",
   "metadata": {},
   "outputs": [],
   "source": [
    "df_obesity = df_obesity[(df_obesity['TimeDim'] >= 2012) & (df_obesity['TimeDim'] <= 2022)]"
   ]
  },
  {
   "cell_type": "code",
   "execution_count": 31,
   "id": "e2ca8c1a-c7a3-409a-a512-160177ff996b",
   "metadata": {},
   "outputs": [
    {
     "name": "stdout",
     "output_type": "stream",
     "text": [
      "(27720, 26)\n"
     ]
    },
    {
     "data": {
      "text/plain": [
       "age_group\n",
       "children    20790\n",
       "adult        6930\n",
       "Name: count, dtype: int64"
      ]
     },
     "execution_count": 31,
     "metadata": {},
     "output_type": "execute_result"
    }
   ],
   "source": [
    "print(df_obesity.shape)\n",
    "df_obesity['age_group'].value_counts()"
   ]
  },
  {
   "cell_type": "code",
   "execution_count": 32,
   "id": "2ff624e6-4193-4116-85e6-4f48bfbc3fb1",
   "metadata": {},
   "outputs": [],
   "source": [
    "df_malnutrition = df_malnutrition[(df_malnutrition['TimeDim'] >= 2012) & (df_malnutrition['TimeDim'] <= 2022)]"
   ]
  },
  {
   "cell_type": "code",
   "execution_count": 33,
   "id": "0acfd13e-9c94-4eb0-ae79-6353846939a1",
   "metadata": {},
   "outputs": [
    {
     "name": "stdout",
     "output_type": "stream",
     "text": [
      "(27720, 26)\n"
     ]
    },
    {
     "data": {
      "text/plain": [
       "age_group\n",
       "children    20790\n",
       "adult        6930\n",
       "Name: count, dtype: int64"
      ]
     },
     "execution_count": 33,
     "metadata": {},
     "output_type": "execute_result"
    }
   ],
   "source": [
    "print(df_malnutrition.shape)\n",
    "df_malnutrition['age_group'].value_counts()"
   ]
  },
  {
   "cell_type": "code",
   "execution_count": null,
   "id": "2997673c-59df-43be-b478-cc2a70d497f0",
   "metadata": {},
   "outputs": [],
   "source": []
  }
 ],
 "metadata": {
  "kernelspec": {
   "display_name": "Python [conda env:base] *",
   "language": "python",
   "name": "conda-base-py"
  },
  "language_info": {
   "codemirror_mode": {
    "name": "ipython",
    "version": 3
   },
   "file_extension": ".py",
   "mimetype": "text/x-python",
   "name": "python",
   "nbconvert_exporter": "python",
   "pygments_lexer": "ipython3",
   "version": "3.12.7"
  }
 },
 "nbformat": 4,
 "nbformat_minor": 5
}
